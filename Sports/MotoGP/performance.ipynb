{
 "cells": [
  {
   "attachments": {},
   "cell_type": "markdown",
   "metadata": {},
   "source": [
    "<font size='6'>MotoGP Race Data</font><br><br>\n",
    "<font size='6'><b>🏍️ Modelling Riders Performance</b></font><br><br>\n",
    "\n",
    "<font size='4'>Antonio Buzzelli</font><br>\n",
    "<font size='4'>May 2023</font>\n",
    "\n",
    "\n",
    "Sports are being radically transformed by data collection and analysis, benefiting both professionals and fans. Soccer, baseball, and American football are some examples where player performance data is utilized to acquire talent and provide in-depth statistics for the public. In contrast, data analysis for motorsports fans is not yet widespread, despite being fundamental to the sport's operation. \n",
    "\n",
    "In this notebook, we will explore the realm of MotoGP racing and analyze publicly available race data with the aim of comprehending how it can be used to provide fans with essential **insights on riders' performance**. By employing statistical methodologies, we will extract as much insights as possible from the openly accessible data, contending that it is possible to gauge the riders' objective performances within a race and across the championship. At the same time, we will propose potential data analyses – presented as a \"post-GP\" information product – that can be used by the media to interpret Grand Prix outcomes and which can spark engaging discussions on the competitors' performance levels and progress.\n",
    "\n",
    "> *Data is provided thanks to the [motogpdata](https://github.com/antobzzll/motogpdata) project.*\n",
    "\n",
    "# Key findings and achievements:\n",
    "\n",
    "* For the purpose of providing more technical and structured insights to fans, we demonstrate how public race data can be used to extract important information on race and rider performance.\n",
    "* We demonstrate how to **quantify the performances** of riders, teams, and constructors through **quantitative indicators** that take into account **relative speed and consistency**, the two fundamental variables in the theoretical definition of \"performance.\"\n",
    "___"
   ]
  },
  {
   "cell_type": "code",
   "execution_count": 1,
   "metadata": {},
   "outputs": [],
   "source": [
    "import motogpdata.handler as mgphandler\n",
    "import pandas as pd\n",
    "import plotly.express as px\n",
    "template = \"plotly_white\""
   ]
  },
  {
   "attachments": {},
   "cell_type": "markdown",
   "metadata": {},
   "source": [
    "# Race Results\n",
    "\n",
    "For the scope of this study, we will take into account and examine two races from the 2022 MotoGP season, namely the Qatar Grand Prix and the Italian Grand Prix. Let's first refresh our memory of the results of these races.\n",
    "\n",
    "For the Qatar Grand Prix:"
   ]
  },
  {
   "cell_type": "code",
   "execution_count": 2,
   "metadata": {},
   "outputs": [],
   "source": [
    "season = mgphandler.Season(2022, 'MotoGP')\n",
    "qat2022 = mgphandler.Event(season, 'QAT')\n",
    "ita2022 = mgphandler.Event(season, 'ITA')"
   ]
  },
  {
   "cell_type": "code",
   "execution_count": 3,
   "metadata": {},
   "outputs": [
    {
     "data": {
      "text/html": [
       "<div>\n",
       "<style scoped>\n",
       "    .dataframe tbody tr th:only-of-type {\n",
       "        vertical-align: middle;\n",
       "    }\n",
       "\n",
       "    .dataframe tbody tr th {\n",
       "        vertical-align: top;\n",
       "    }\n",
       "\n",
       "    .dataframe thead th {\n",
       "        text-align: right;\n",
       "    }\n",
       "</style>\n",
       "<table border=\"1\" class=\"dataframe\">\n",
       "  <thead>\n",
       "    <tr style=\"text-align: right;\">\n",
       "      <th></th>\n",
       "      <th>position</th>\n",
       "      <th>average_speed</th>\n",
       "      <th>total_laps</th>\n",
       "      <th>time</th>\n",
       "      <th>points</th>\n",
       "    </tr>\n",
       "    <tr>\n",
       "      <th>rider.full_name</th>\n",
       "      <th></th>\n",
       "      <th></th>\n",
       "      <th></th>\n",
       "      <th></th>\n",
       "      <th></th>\n",
       "    </tr>\n",
       "  </thead>\n",
       "  <tbody>\n",
       "    <tr>\n",
       "      <th>Enea Bastianini</th>\n",
       "      <td>1.0</td>\n",
       "      <td>168.2</td>\n",
       "      <td>22</td>\n",
       "      <td>42:13.1980</td>\n",
       "      <td>25</td>\n",
       "    </tr>\n",
       "    <tr>\n",
       "      <th>Brad Binder</th>\n",
       "      <td>2.0</td>\n",
       "      <td>168.1</td>\n",
       "      <td>22</td>\n",
       "      <td>42:13.5440</td>\n",
       "      <td>20</td>\n",
       "    </tr>\n",
       "    <tr>\n",
       "      <th>Pol Espargaro</th>\n",
       "      <td>3.0</td>\n",
       "      <td>168.1</td>\n",
       "      <td>22</td>\n",
       "      <td>42:14.5490</td>\n",
       "      <td>16</td>\n",
       "    </tr>\n",
       "    <tr>\n",
       "      <th>Aleix Espargaro</th>\n",
       "      <td>4.0</td>\n",
       "      <td>168.0</td>\n",
       "      <td>22</td>\n",
       "      <td>42:15.4400</td>\n",
       "      <td>13</td>\n",
       "    </tr>\n",
       "    <tr>\n",
       "      <th>Marc Marquez</th>\n",
       "      <td>5.0</td>\n",
       "      <td>167.9</td>\n",
       "      <td>22</td>\n",
       "      <td>42:17.2970</td>\n",
       "      <td>11</td>\n",
       "    </tr>\n",
       "    <tr>\n",
       "      <th>Joan Mir</th>\n",
       "      <td>6.0</td>\n",
       "      <td>167.8</td>\n",
       "      <td>22</td>\n",
       "      <td>42:18.0410</td>\n",
       "      <td>10</td>\n",
       "    </tr>\n",
       "    <tr>\n",
       "      <th>Alex Rins</th>\n",
       "      <td>7.0</td>\n",
       "      <td>167.6</td>\n",
       "      <td>22</td>\n",
       "      <td>42:22.0080</td>\n",
       "      <td>9</td>\n",
       "    </tr>\n",
       "    <tr>\n",
       "      <th>Johann Zarco</th>\n",
       "      <td>8.0</td>\n",
       "      <td>167.5</td>\n",
       "      <td>22</td>\n",
       "      <td>42:23.7340</td>\n",
       "      <td>8</td>\n",
       "    </tr>\n",
       "    <tr>\n",
       "      <th>Fabio Quartararo</th>\n",
       "      <td>9.0</td>\n",
       "      <td>167.5</td>\n",
       "      <td>22</td>\n",
       "      <td>42:23.7410</td>\n",
       "      <td>7</td>\n",
       "    </tr>\n",
       "    <tr>\n",
       "      <th>Takaaki Nakagami</th>\n",
       "      <td>10.0</td>\n",
       "      <td>167.2</td>\n",
       "      <td>22</td>\n",
       "      <td>42:28.1650</td>\n",
       "      <td>6</td>\n",
       "    </tr>\n",
       "    <tr>\n",
       "      <th>Franco Morbidelli</th>\n",
       "      <td>11.0</td>\n",
       "      <td>167.1</td>\n",
       "      <td>22</td>\n",
       "      <td>42:29.9100</td>\n",
       "      <td>5</td>\n",
       "    </tr>\n",
       "    <tr>\n",
       "      <th>Maverick Viñales</th>\n",
       "      <td>12.0</td>\n",
       "      <td>166.6</td>\n",
       "      <td>22</td>\n",
       "      <td>42:36.4140</td>\n",
       "      <td>4</td>\n",
       "    </tr>\n",
       "    <tr>\n",
       "      <th>Luca Marini</th>\n",
       "      <td>13.0</td>\n",
       "      <td>166.4</td>\n",
       "      <td>22</td>\n",
       "      <td>42:40.4810</td>\n",
       "      <td>3</td>\n",
       "    </tr>\n",
       "    <tr>\n",
       "      <th>Andrea Dovizioso</th>\n",
       "      <td>14.0</td>\n",
       "      <td>166.4</td>\n",
       "      <td>22</td>\n",
       "      <td>42:40.5720</td>\n",
       "      <td>2</td>\n",
       "    </tr>\n",
       "    <tr>\n",
       "      <th>Remy Gardner</th>\n",
       "      <td>15.0</td>\n",
       "      <td>165.5</td>\n",
       "      <td>22</td>\n",
       "      <td>42:54.3050</td>\n",
       "      <td>1</td>\n",
       "    </tr>\n",
       "    <tr>\n",
       "      <th>Darryn Binder</th>\n",
       "      <td>16.0</td>\n",
       "      <td>165.5</td>\n",
       "      <td>22</td>\n",
       "      <td>42:54.3170</td>\n",
       "      <td>0</td>\n",
       "    </tr>\n",
       "    <tr>\n",
       "      <th>Fabio Di Giannantonio</th>\n",
       "      <td>17.0</td>\n",
       "      <td>165.5</td>\n",
       "      <td>22</td>\n",
       "      <td>42:54.5470</td>\n",
       "      <td>0</td>\n",
       "    </tr>\n",
       "    <tr>\n",
       "      <th>Raul Fernandez</th>\n",
       "      <td>18.0</td>\n",
       "      <td>165.4</td>\n",
       "      <td>22</td>\n",
       "      <td>42:55.5550</td>\n",
       "      <td>0</td>\n",
       "    </tr>\n",
       "    <tr>\n",
       "      <th>Francesco Bagnaia</th>\n",
       "      <td>NaN</td>\n",
       "      <td>167.2</td>\n",
       "      <td>11</td>\n",
       "      <td>21:13.8350</td>\n",
       "      <td>0</td>\n",
       "    </tr>\n",
       "    <tr>\n",
       "      <th>Jorge Martin</th>\n",
       "      <td>NaN</td>\n",
       "      <td>167.2</td>\n",
       "      <td>11</td>\n",
       "      <td>21:13.8000</td>\n",
       "      <td>0</td>\n",
       "    </tr>\n",
       "    <tr>\n",
       "      <th>Miguel Oliveira</th>\n",
       "      <td>NaN</td>\n",
       "      <td>166.9</td>\n",
       "      <td>10</td>\n",
       "      <td>19:19.8860</td>\n",
       "      <td>0</td>\n",
       "    </tr>\n",
       "    <tr>\n",
       "      <th>Alex Marquez</th>\n",
       "      <td>NaN</td>\n",
       "      <td>166.6</td>\n",
       "      <td>9</td>\n",
       "      <td>17:25.7820</td>\n",
       "      <td>0</td>\n",
       "    </tr>\n",
       "    <tr>\n",
       "      <th>Jack Miller</th>\n",
       "      <td>NaN</td>\n",
       "      <td>165.4</td>\n",
       "      <td>6</td>\n",
       "      <td>11:42.3060</td>\n",
       "      <td>0</td>\n",
       "    </tr>\n",
       "    <tr>\n",
       "      <th>Marco Bezzecchi</th>\n",
       "      <td>NaN</td>\n",
       "      <td>165.6</td>\n",
       "      <td>6</td>\n",
       "      <td>11:41.3210</td>\n",
       "      <td>0</td>\n",
       "    </tr>\n",
       "  </tbody>\n",
       "</table>\n",
       "</div>"
      ],
      "text/plain": [
       "                       position  average_speed  total_laps        time  points\n",
       "rider.full_name                                                               \n",
       "Enea Bastianini             1.0          168.2          22  42:13.1980      25\n",
       "Brad Binder                 2.0          168.1          22  42:13.5440      20\n",
       "Pol Espargaro               3.0          168.1          22  42:14.5490      16\n",
       "Aleix Espargaro             4.0          168.0          22  42:15.4400      13\n",
       "Marc Marquez                5.0          167.9          22  42:17.2970      11\n",
       "Joan Mir                    6.0          167.8          22  42:18.0410      10\n",
       "Alex Rins                   7.0          167.6          22  42:22.0080       9\n",
       "Johann Zarco                8.0          167.5          22  42:23.7340       8\n",
       "Fabio Quartararo            9.0          167.5          22  42:23.7410       7\n",
       "Takaaki Nakagami           10.0          167.2          22  42:28.1650       6\n",
       "Franco Morbidelli          11.0          167.1          22  42:29.9100       5\n",
       "Maverick Viñales           12.0          166.6          22  42:36.4140       4\n",
       "Luca Marini                13.0          166.4          22  42:40.4810       3\n",
       "Andrea Dovizioso           14.0          166.4          22  42:40.5720       2\n",
       "Remy Gardner               15.0          165.5          22  42:54.3050       1\n",
       "Darryn Binder              16.0          165.5          22  42:54.3170       0\n",
       "Fabio Di Giannantonio      17.0          165.5          22  42:54.5470       0\n",
       "Raul Fernandez             18.0          165.4          22  42:55.5550       0\n",
       "Francesco Bagnaia           NaN          167.2          11  21:13.8350       0\n",
       "Jorge Martin                NaN          167.2          11  21:13.8000       0\n",
       "Miguel Oliveira             NaN          166.9          10  19:19.8860       0\n",
       "Alex Marquez                NaN          166.6           9  17:25.7820       0\n",
       "Jack Miller                 NaN          165.4           6  11:42.3060       0\n",
       "Marco Bezzecchi             NaN          165.6           6  11:41.3210       0"
      ]
     },
     "execution_count": 3,
     "metadata": {},
     "output_type": "execute_result"
    }
   ],
   "source": [
    "results_subset = ['rider.full_name', 'position', 'average_speed', 'total_laps', 'time', 'points']\n",
    "qat2022.results()[results_subset].set_index('rider.full_name')"
   ]
  },
  {
   "attachments": {},
   "cell_type": "markdown",
   "metadata": {},
   "source": [
    "For the Italian Grand Prix:"
   ]
  },
  {
   "cell_type": "code",
   "execution_count": 4,
   "metadata": {},
   "outputs": [
    {
     "data": {
      "text/html": [
       "<div>\n",
       "<style scoped>\n",
       "    .dataframe tbody tr th:only-of-type {\n",
       "        vertical-align: middle;\n",
       "    }\n",
       "\n",
       "    .dataframe tbody tr th {\n",
       "        vertical-align: top;\n",
       "    }\n",
       "\n",
       "    .dataframe thead th {\n",
       "        text-align: right;\n",
       "    }\n",
       "</style>\n",
       "<table border=\"1\" class=\"dataframe\">\n",
       "  <thead>\n",
       "    <tr style=\"text-align: right;\">\n",
       "      <th></th>\n",
       "      <th>position</th>\n",
       "      <th>average_speed</th>\n",
       "      <th>total_laps</th>\n",
       "      <th>time</th>\n",
       "      <th>points</th>\n",
       "    </tr>\n",
       "    <tr>\n",
       "      <th>rider.full_name</th>\n",
       "      <th></th>\n",
       "      <th></th>\n",
       "      <th></th>\n",
       "      <th></th>\n",
       "      <th></th>\n",
       "    </tr>\n",
       "  </thead>\n",
       "  <tbody>\n",
       "    <tr>\n",
       "      <th>Francesco Bagnaia</th>\n",
       "      <td>1.0</td>\n",
       "      <td>175.1</td>\n",
       "      <td>23</td>\n",
       "      <td>41:18.9230</td>\n",
       "      <td>25</td>\n",
       "    </tr>\n",
       "    <tr>\n",
       "      <th>Fabio Quartararo</th>\n",
       "      <td>2.0</td>\n",
       "      <td>175.1</td>\n",
       "      <td>23</td>\n",
       "      <td>41:19.5580</td>\n",
       "      <td>20</td>\n",
       "    </tr>\n",
       "    <tr>\n",
       "      <th>Aleix Espargaro</th>\n",
       "      <td>3.0</td>\n",
       "      <td>175.0</td>\n",
       "      <td>23</td>\n",
       "      <td>41:20.9060</td>\n",
       "      <td>16</td>\n",
       "    </tr>\n",
       "    <tr>\n",
       "      <th>Johann Zarco</th>\n",
       "      <td>4.0</td>\n",
       "      <td>175.0</td>\n",
       "      <td>23</td>\n",
       "      <td>41:21.5130</td>\n",
       "      <td>13</td>\n",
       "    </tr>\n",
       "    <tr>\n",
       "      <th>Marco Bezzecchi</th>\n",
       "      <td>5.0</td>\n",
       "      <td>174.9</td>\n",
       "      <td>23</td>\n",
       "      <td>41:21.9900</td>\n",
       "      <td>11</td>\n",
       "    </tr>\n",
       "    <tr>\n",
       "      <th>Luca Marini</th>\n",
       "      <td>6.0</td>\n",
       "      <td>174.9</td>\n",
       "      <td>23</td>\n",
       "      <td>41:22.7980</td>\n",
       "      <td>10</td>\n",
       "    </tr>\n",
       "    <tr>\n",
       "      <th>Brad Binder</th>\n",
       "      <td>7.0</td>\n",
       "      <td>174.9</td>\n",
       "      <td>23</td>\n",
       "      <td>41:22.9900</td>\n",
       "      <td>9</td>\n",
       "    </tr>\n",
       "    <tr>\n",
       "      <th>Takaaki Nakagami</th>\n",
       "      <td>8.0</td>\n",
       "      <td>174.4</td>\n",
       "      <td>23</td>\n",
       "      <td>41:29.8670</td>\n",
       "      <td>8</td>\n",
       "    </tr>\n",
       "    <tr>\n",
       "      <th>Miguel Oliveira</th>\n",
       "      <td>9.0</td>\n",
       "      <td>174.3</td>\n",
       "      <td>23</td>\n",
       "      <td>41:30.1790</td>\n",
       "      <td>7</td>\n",
       "    </tr>\n",
       "    <tr>\n",
       "      <th>Marc Marquez</th>\n",
       "      <td>10.0</td>\n",
       "      <td>174.3</td>\n",
       "      <td>23</td>\n",
       "      <td>41:30.7230</td>\n",
       "      <td>6</td>\n",
       "    </tr>\n",
       "    <tr>\n",
       "      <th>Fabio Di Giannantonio</th>\n",
       "      <td>11.0</td>\n",
       "      <td>174.2</td>\n",
       "      <td>23</td>\n",
       "      <td>41:31.8390</td>\n",
       "      <td>5</td>\n",
       "    </tr>\n",
       "    <tr>\n",
       "      <th>Maverick Viñales</th>\n",
       "      <td>12.0</td>\n",
       "      <td>174.2</td>\n",
       "      <td>23</td>\n",
       "      <td>41:31.8400</td>\n",
       "      <td>4</td>\n",
       "    </tr>\n",
       "    <tr>\n",
       "      <th>Jorge Martin</th>\n",
       "      <td>13.0</td>\n",
       "      <td>173.9</td>\n",
       "      <td>23</td>\n",
       "      <td>41:36.1630</td>\n",
       "      <td>3</td>\n",
       "    </tr>\n",
       "    <tr>\n",
       "      <th>Alex Marquez</th>\n",
       "      <td>14.0</td>\n",
       "      <td>173.9</td>\n",
       "      <td>23</td>\n",
       "      <td>41:36.4910</td>\n",
       "      <td>2</td>\n",
       "    </tr>\n",
       "    <tr>\n",
       "      <th>Jack Miller</th>\n",
       "      <td>15.0</td>\n",
       "      <td>173.9</td>\n",
       "      <td>23</td>\n",
       "      <td>41:36.6100</td>\n",
       "      <td>1</td>\n",
       "    </tr>\n",
       "    <tr>\n",
       "      <th>Darryn Binder</th>\n",
       "      <td>16.0</td>\n",
       "      <td>173.7</td>\n",
       "      <td>23</td>\n",
       "      <td>41:39.1880</td>\n",
       "      <td>0</td>\n",
       "    </tr>\n",
       "    <tr>\n",
       "      <th>Franco Morbidelli</th>\n",
       "      <td>17.0</td>\n",
       "      <td>173.7</td>\n",
       "      <td>23</td>\n",
       "      <td>41:39.2190</td>\n",
       "      <td>0</td>\n",
       "    </tr>\n",
       "    <tr>\n",
       "      <th>Michele Pirro</th>\n",
       "      <td>18.0</td>\n",
       "      <td>173.6</td>\n",
       "      <td>23</td>\n",
       "      <td>41:40.2280</td>\n",
       "      <td>0</td>\n",
       "    </tr>\n",
       "    <tr>\n",
       "      <th>Remy Gardner</th>\n",
       "      <td>19.0</td>\n",
       "      <td>173.0</td>\n",
       "      <td>23</td>\n",
       "      <td>41:49.4710</td>\n",
       "      <td>0</td>\n",
       "    </tr>\n",
       "    <tr>\n",
       "      <th>Andrea Dovizioso</th>\n",
       "      <td>20.0</td>\n",
       "      <td>173.0</td>\n",
       "      <td>23</td>\n",
       "      <td>41:49.9340</td>\n",
       "      <td>0</td>\n",
       "    </tr>\n",
       "    <tr>\n",
       "      <th>Raul Fernandez</th>\n",
       "      <td>21.0</td>\n",
       "      <td>172.2</td>\n",
       "      <td>23</td>\n",
       "      <td>42:01.6460</td>\n",
       "      <td>0</td>\n",
       "    </tr>\n",
       "    <tr>\n",
       "      <th>Lorenzo Savadori</th>\n",
       "      <td>22.0</td>\n",
       "      <td>164.9</td>\n",
       "      <td>22</td>\n",
       "      <td>41:58.6110</td>\n",
       "      <td>0</td>\n",
       "    </tr>\n",
       "    <tr>\n",
       "      <th>Enea Bastianini</th>\n",
       "      <td>NaN</td>\n",
       "      <td>174.8</td>\n",
       "      <td>13</td>\n",
       "      <td>23:24.0940</td>\n",
       "      <td>0</td>\n",
       "    </tr>\n",
       "    <tr>\n",
       "      <th>Joan Mir</th>\n",
       "      <td>NaN</td>\n",
       "      <td>172.8</td>\n",
       "      <td>7</td>\n",
       "      <td>12:44.7980</td>\n",
       "      <td>0</td>\n",
       "    </tr>\n",
       "    <tr>\n",
       "      <th>Alex Rins</th>\n",
       "      <td>NaN</td>\n",
       "      <td>173.5</td>\n",
       "      <td>7</td>\n",
       "      <td>12:41.6070</td>\n",
       "      <td>0</td>\n",
       "    </tr>\n",
       "    <tr>\n",
       "      <th>Pol Espargaro</th>\n",
       "      <td>NaN</td>\n",
       "      <td>171.2</td>\n",
       "      <td>4</td>\n",
       "      <td>07:21.0900</td>\n",
       "      <td>0</td>\n",
       "    </tr>\n",
       "  </tbody>\n",
       "</table>\n",
       "</div>"
      ],
      "text/plain": [
       "                       position  average_speed  total_laps        time  points\n",
       "rider.full_name                                                               \n",
       "Francesco Bagnaia           1.0          175.1          23  41:18.9230      25\n",
       "Fabio Quartararo            2.0          175.1          23  41:19.5580      20\n",
       "Aleix Espargaro             3.0          175.0          23  41:20.9060      16\n",
       "Johann Zarco                4.0          175.0          23  41:21.5130      13\n",
       "Marco Bezzecchi             5.0          174.9          23  41:21.9900      11\n",
       "Luca Marini                 6.0          174.9          23  41:22.7980      10\n",
       "Brad Binder                 7.0          174.9          23  41:22.9900       9\n",
       "Takaaki Nakagami            8.0          174.4          23  41:29.8670       8\n",
       "Miguel Oliveira             9.0          174.3          23  41:30.1790       7\n",
       "Marc Marquez               10.0          174.3          23  41:30.7230       6\n",
       "Fabio Di Giannantonio      11.0          174.2          23  41:31.8390       5\n",
       "Maverick Viñales           12.0          174.2          23  41:31.8400       4\n",
       "Jorge Martin               13.0          173.9          23  41:36.1630       3\n",
       "Alex Marquez               14.0          173.9          23  41:36.4910       2\n",
       "Jack Miller                15.0          173.9          23  41:36.6100       1\n",
       "Darryn Binder              16.0          173.7          23  41:39.1880       0\n",
       "Franco Morbidelli          17.0          173.7          23  41:39.2190       0\n",
       "Michele Pirro              18.0          173.6          23  41:40.2280       0\n",
       "Remy Gardner               19.0          173.0          23  41:49.4710       0\n",
       "Andrea Dovizioso           20.0          173.0          23  41:49.9340       0\n",
       "Raul Fernandez             21.0          172.2          23  42:01.6460       0\n",
       "Lorenzo Savadori           22.0          164.9          22  41:58.6110       0\n",
       "Enea Bastianini             NaN          174.8          13  23:24.0940       0\n",
       "Joan Mir                    NaN          172.8           7  12:44.7980       0\n",
       "Alex Rins                   NaN          173.5           7  12:41.6070       0\n",
       "Pol Espargaro               NaN          171.2           4  07:21.0900       0"
      ]
     },
     "execution_count": 4,
     "metadata": {},
     "output_type": "execute_result"
    }
   ],
   "source": [
    "ita2022.results()[results_subset].set_index('rider.full_name')"
   ]
  },
  {
   "attachments": {},
   "cell_type": "markdown",
   "metadata": {},
   "source": [
    "The traditional race classification tables (which represent the only type of data considered by most of the media when reporting on races) do not provide many analytical insights nor objective indicators of riders performances. They merely offer a snapshot of the race outcome; and the final result does not provide a comprehensive evaluation of the competitors' achievements in the race.\n",
    "\n",
    "It is in fact possible for a rider to finish a race in a certain position thanks to the mistakes of others, even if he has maintained an anonymous performance throughout the race. In such situations, the most common question that arises is whether or not the rider \"deserved\" or not the position he achieved at the end of the race. In other words, we ask: what was the rider's performance after accounting for the race events? How can we measure and evaluate he's performance regardless of the result obtained?\n",
    "\n",
    "# Laptime analysis\n",
    "\n",
    "A statistical assessment of race performance is required to address these inquiries, which entails an evaluation based on factual data rather than subjective sentiments or judgments. To accomplish this, the data on lap times must be taken into account, scrutinizing the race's overall progress. An illustration of such data for the Qatar race is presented below."
   ]
  },
  {
   "cell_type": "code",
   "execution_count": 5,
   "metadata": {},
   "outputs": [],
   "source": [
    "# Extract race analysis data for the Qatar Grand Prix\n",
    "timesheetQAT, laptimes_ridersQAT, laptimes_teamsQAT, laptimes_constructorsQAT, performanceQAT = qat2022.race_analysis(save_pdf=False, performance=True)"
   ]
  },
  {
   "cell_type": "code",
   "execution_count": 6,
   "metadata": {},
   "outputs": [
    {
     "data": {
      "text/html": [
       "<div>\n",
       "<style scoped>\n",
       "    .dataframe tbody tr th:only-of-type {\n",
       "        vertical-align: middle;\n",
       "    }\n",
       "\n",
       "    .dataframe tbody tr th {\n",
       "        vertical-align: top;\n",
       "    }\n",
       "\n",
       "    .dataframe thead th {\n",
       "        text-align: right;\n",
       "    }\n",
       "</style>\n",
       "<table border=\"1\" class=\"dataframe\">\n",
       "  <thead>\n",
       "    <tr style=\"text-align: right;\">\n",
       "      <th>rider</th>\n",
       "      <th>Aleix Espargaro</th>\n",
       "      <th>Alex Marquez</th>\n",
       "      <th>Alex Rins</th>\n",
       "      <th>Andrea Dovizioso</th>\n",
       "      <th>Brad Binder</th>\n",
       "      <th>Darryn Binder</th>\n",
       "      <th>Enea Bastianini</th>\n",
       "      <th>Fabio Di Giannantonio</th>\n",
       "      <th>Fabio Quartararo</th>\n",
       "      <th>Francesco Bagnaia</th>\n",
       "      <th>...</th>\n",
       "      <th>Marc Marquez</th>\n",
       "      <th>Marco Bezzecchi</th>\n",
       "      <th>Maverick Viñales</th>\n",
       "      <th>Miguel Oliveira</th>\n",
       "      <th>Pol Espargaro</th>\n",
       "      <th>Raul Fernandez</th>\n",
       "      <th>Remy Gardner</th>\n",
       "      <th>Takaaki Nakagami</th>\n",
       "      <th>avg_laptime</th>\n",
       "      <th>lap</th>\n",
       "    </tr>\n",
       "    <tr>\n",
       "      <th>lap</th>\n",
       "      <th></th>\n",
       "      <th></th>\n",
       "      <th></th>\n",
       "      <th></th>\n",
       "      <th></th>\n",
       "      <th></th>\n",
       "      <th></th>\n",
       "      <th></th>\n",
       "      <th></th>\n",
       "      <th></th>\n",
       "      <th></th>\n",
       "      <th></th>\n",
       "      <th></th>\n",
       "      <th></th>\n",
       "      <th></th>\n",
       "      <th></th>\n",
       "      <th></th>\n",
       "      <th></th>\n",
       "      <th></th>\n",
       "      <th></th>\n",
       "      <th></th>\n",
       "    </tr>\n",
       "  </thead>\n",
       "  <tbody>\n",
       "    <tr>\n",
       "      <th>1</th>\n",
       "      <td>121.559</td>\n",
       "      <td>122.479</td>\n",
       "      <td>122.363</td>\n",
       "      <td>123.815</td>\n",
       "      <td>121.021</td>\n",
       "      <td>124.531</td>\n",
       "      <td>121.438</td>\n",
       "      <td>125.299</td>\n",
       "      <td>122.042</td>\n",
       "      <td>121.817</td>\n",
       "      <td>...</td>\n",
       "      <td>120.713</td>\n",
       "      <td>122.419</td>\n",
       "      <td>124.207</td>\n",
       "      <td>122.558</td>\n",
       "      <td>120.669</td>\n",
       "      <td>125.229</td>\n",
       "      <td>125.051</td>\n",
       "      <td>122.755</td>\n",
       "      <td>122.863542</td>\n",
       "      <td>1</td>\n",
       "    </tr>\n",
       "    <tr>\n",
       "      <th>2</th>\n",
       "      <td>115.237</td>\n",
       "      <td>116.054</td>\n",
       "      <td>115.487</td>\n",
       "      <td>116.887</td>\n",
       "      <td>115.086</td>\n",
       "      <td>116.721</td>\n",
       "      <td>114.953</td>\n",
       "      <td>116.269</td>\n",
       "      <td>115.415</td>\n",
       "      <td>115.135</td>\n",
       "      <td>...</td>\n",
       "      <td>115.265</td>\n",
       "      <td>116.229</td>\n",
       "      <td>116.618</td>\n",
       "      <td>116.259</td>\n",
       "      <td>115.181</td>\n",
       "      <td>116.272</td>\n",
       "      <td>116.173</td>\n",
       "      <td>115.975</td>\n",
       "      <td>115.839625</td>\n",
       "      <td>2</td>\n",
       "    </tr>\n",
       "    <tr>\n",
       "      <th>3</th>\n",
       "      <td>114.797</td>\n",
       "      <td>115.223</td>\n",
       "      <td>114.610</td>\n",
       "      <td>115.858</td>\n",
       "      <td>114.846</td>\n",
       "      <td>115.720</td>\n",
       "      <td>114.918</td>\n",
       "      <td>115.982</td>\n",
       "      <td>115.007</td>\n",
       "      <td>114.771</td>\n",
       "      <td>...</td>\n",
       "      <td>114.875</td>\n",
       "      <td>115.636</td>\n",
       "      <td>116.134</td>\n",
       "      <td>115.488</td>\n",
       "      <td>114.797</td>\n",
       "      <td>116.531</td>\n",
       "      <td>115.974</td>\n",
       "      <td>115.909</td>\n",
       "      <td>115.377417</td>\n",
       "      <td>3</td>\n",
       "    </tr>\n",
       "    <tr>\n",
       "      <th>4</th>\n",
       "      <td>115.000</td>\n",
       "      <td>115.329</td>\n",
       "      <td>114.706</td>\n",
       "      <td>115.860</td>\n",
       "      <td>115.069</td>\n",
       "      <td>115.591</td>\n",
       "      <td>114.991</td>\n",
       "      <td>116.212</td>\n",
       "      <td>115.171</td>\n",
       "      <td>115.223</td>\n",
       "      <td>...</td>\n",
       "      <td>115.032</td>\n",
       "      <td>116.318</td>\n",
       "      <td>116.044</td>\n",
       "      <td>115.057</td>\n",
       "      <td>115.076</td>\n",
       "      <td>116.106</td>\n",
       "      <td>116.167</td>\n",
       "      <td>116.029</td>\n",
       "      <td>115.478208</td>\n",
       "      <td>4</td>\n",
       "    </tr>\n",
       "    <tr>\n",
       "      <th>5</th>\n",
       "      <td>114.944</td>\n",
       "      <td>115.328</td>\n",
       "      <td>115.013</td>\n",
       "      <td>117.290</td>\n",
       "      <td>114.867</td>\n",
       "      <td>116.474</td>\n",
       "      <td>114.956</td>\n",
       "      <td>116.228</td>\n",
       "      <td>115.236</td>\n",
       "      <td>115.105</td>\n",
       "      <td>...</td>\n",
       "      <td>114.867</td>\n",
       "      <td>115.520</td>\n",
       "      <td>116.015</td>\n",
       "      <td>115.097</td>\n",
       "      <td>114.753</td>\n",
       "      <td>116.326</td>\n",
       "      <td>116.210</td>\n",
       "      <td>115.380</td>\n",
       "      <td>115.526708</td>\n",
       "      <td>5</td>\n",
       "    </tr>\n",
       "  </tbody>\n",
       "</table>\n",
       "<p>5 rows × 26 columns</p>\n",
       "</div>"
      ],
      "text/plain": [
       "rider  Aleix Espargaro  Alex Marquez  Alex Rins  Andrea Dovizioso   \n",
       "lap                                                                 \n",
       "1              121.559       122.479    122.363           123.815  \\\n",
       "2              115.237       116.054    115.487           116.887   \n",
       "3              114.797       115.223    114.610           115.858   \n",
       "4              115.000       115.329    114.706           115.860   \n",
       "5              114.944       115.328    115.013           117.290   \n",
       "\n",
       "rider  Brad Binder  Darryn Binder  Enea Bastianini  Fabio Di Giannantonio   \n",
       "lap                                                                         \n",
       "1          121.021        124.531          121.438                125.299  \\\n",
       "2          115.086        116.721          114.953                116.269   \n",
       "3          114.846        115.720          114.918                115.982   \n",
       "4          115.069        115.591          114.991                116.212   \n",
       "5          114.867        116.474          114.956                116.228   \n",
       "\n",
       "rider  Fabio Quartararo  Francesco Bagnaia  ...  Marc Marquez   \n",
       "lap                                         ...                 \n",
       "1               122.042            121.817  ...       120.713  \\\n",
       "2               115.415            115.135  ...       115.265   \n",
       "3               115.007            114.771  ...       114.875   \n",
       "4               115.171            115.223  ...       115.032   \n",
       "5               115.236            115.105  ...       114.867   \n",
       "\n",
       "rider  Marco Bezzecchi  Maverick Viñales  Miguel Oliveira  Pol Espargaro   \n",
       "lap                                                                        \n",
       "1              122.419           124.207          122.558        120.669  \\\n",
       "2              116.229           116.618          116.259        115.181   \n",
       "3              115.636           116.134          115.488        114.797   \n",
       "4              116.318           116.044          115.057        115.076   \n",
       "5              115.520           116.015          115.097        114.753   \n",
       "\n",
       "rider  Raul Fernandez  Remy Gardner  Takaaki Nakagami  avg_laptime  lap  \n",
       "lap                                                                      \n",
       "1             125.229       125.051           122.755   122.863542    1  \n",
       "2             116.272       116.173           115.975   115.839625    2  \n",
       "3             116.531       115.974           115.909   115.377417    3  \n",
       "4             116.106       116.167           116.029   115.478208    4  \n",
       "5             116.326       116.210           115.380   115.526708    5  \n",
       "\n",
       "[5 rows x 26 columns]"
      ]
     },
     "execution_count": 6,
     "metadata": {},
     "output_type": "execute_result"
    }
   ],
   "source": [
    "laptimes_ridersQAT.head()"
   ]
  },
  {
   "attachments": {},
   "cell_type": "markdown",
   "metadata": {},
   "source": [
    "The above table (in its comprehensive form) shows the lap times of each rider (expressed in seconds), and provides already a good starting point for deepening the understanding of the time trends and the general race progression. From such data, it is possible to generate some of the following visualizations."
   ]
  },
  {
   "cell_type": "code",
   "execution_count": 7,
   "metadata": {},
   "outputs": [
    {
     "data": {
      "application/vnd.plotly.v1+json": {
       "config": {
        "plotlyServerURL": "https://plot.ly"
       },
       "data": [
        {
         "hovertemplate": "variable=avg_laptime<br>Laps=%{x}<br>Lap times (in seconds)=%{y}<extra></extra>",
         "legendgroup": "avg_laptime",
         "line": {
          "color": "grey",
          "dash": "solid"
         },
         "marker": {
          "symbol": "circle"
         },
         "mode": "lines",
         "name": "Average",
         "orientation": "v",
         "showlegend": true,
         "type": "scatter",
         "x": [
          1,
          2,
          3,
          4,
          5,
          6,
          7,
          8,
          9,
          10,
          11,
          12,
          13,
          14,
          15,
          16,
          17,
          18,
          19,
          20,
          21,
          22
         ],
         "xaxis": "x",
         "y": [
          122.86354166666668,
          115.83962500000001,
          115.37741666666666,
          115.47820833333333,
          115.52670833333333,
          115.52354166666667,
          115.48836363636362,
          115.4410909090909,
          115.33713636363636,
          115.44999999999999,
          115.42694999999999,
          115.46722222222222,
          115.44655555555556,
          115.48866666666669,
          115.489,
          115.55399999999999,
          115.73216666666667,
          115.71905555555554,
          115.8618888888889,
          115.90766666666666,
          115.82922222222221,
          116.13105555555558
         ],
         "yaxis": "y"
        },
        {
         "hovertemplate": "variable=Enea Bastianini<br>Laps=%{x}<br>Lap times (in seconds)=%{y}<extra></extra>",
         "legendgroup": "Enea Bastianini",
         "line": {
          "color": "red",
          "dash": "solid"
         },
         "marker": {
          "symbol": "circle"
         },
         "mode": "lines",
         "name": "Enea Bastianini",
         "orientation": "v",
         "showlegend": true,
         "type": "scatter",
         "x": [
          1,
          2,
          3,
          4,
          5,
          6,
          7,
          8,
          9,
          10,
          11,
          12,
          13,
          14,
          15,
          16,
          17,
          18,
          19,
          20,
          21,
          22
         ],
         "xaxis": "x",
         "y": [
          121.438,
          114.953,
          114.918,
          114.991,
          114.956,
          114.68,
          114.633,
          114.94,
          114.608,
          114.744,
          114.549,
          114.72,
          114.872,
          114.75,
          114.641,
          114.589,
          114.338,
          114.746,
          115.071,
          115.065,
          115.115,
          115.881
         ],
         "yaxis": "y"
        },
        {
         "hovertemplate": "variable=Aleix Espargaro<br>Laps=%{x}<br>Lap times (in seconds)=%{y}<extra></extra>",
         "legendgroup": "Aleix Espargaro",
         "line": {
          "color": "green",
          "dash": "solid"
         },
         "marker": {
          "symbol": "circle"
         },
         "mode": "lines",
         "name": "Aleix Espargaro",
         "orientation": "v",
         "showlegend": true,
         "type": "scatter",
         "x": [
          1,
          2,
          3,
          4,
          5,
          6,
          7,
          8,
          9,
          10,
          11,
          12,
          13,
          14,
          15,
          16,
          17,
          18,
          19,
          20,
          21,
          22
         ],
         "xaxis": "x",
         "y": [
          121.559,
          115.237,
          114.797,
          115,
          114.944,
          114.915,
          114.878,
          115.086,
          114.465,
          115.091,
          114.53,
          114.552,
          114.687,
          115.345,
          114.655,
          114.906,
          115.287,
          115.09,
          114.902,
          114.796,
          115.037,
          115.681
         ],
         "yaxis": "y"
        },
        {
         "hovertemplate": "variable=Raul Fernandez<br>Laps=%{x}<br>Lap times (in seconds)=%{y}<extra></extra>",
         "legendgroup": "Raul Fernandez",
         "line": {
          "color": "darkorange",
          "dash": "solid"
         },
         "marker": {
          "symbol": "circle"
         },
         "mode": "lines",
         "name": "Raul Fernandez",
         "orientation": "v",
         "showlegend": true,
         "type": "scatter",
         "x": [
          1,
          2,
          3,
          4,
          5,
          6,
          7,
          8,
          9,
          10,
          11,
          12,
          13,
          14,
          15,
          16,
          17,
          18,
          19,
          20,
          21,
          22
         ],
         "xaxis": "x",
         "y": [
          125.229,
          116.272,
          116.531,
          116.106,
          116.326,
          116.378,
          116.371,
          116.105,
          115.954,
          116.613,
          116.877,
          116.72,
          116.542,
          116.659,
          116.434,
          116.538,
          116.96,
          117.167,
          117.356,
          117.706,
          117.274,
          117.437
         ],
         "yaxis": "y"
        }
       ],
       "layout": {
        "legend": {
         "orientation": "h",
         "title": {
          "text": ""
         },
         "tracegroupgap": 0,
         "x": 0.01,
         "y": 0.99
        },
        "template": {
         "data": {
          "bar": [
           {
            "error_x": {
             "color": "#2a3f5f"
            },
            "error_y": {
             "color": "#2a3f5f"
            },
            "marker": {
             "line": {
              "color": "white",
              "width": 0.5
             },
             "pattern": {
              "fillmode": "overlay",
              "size": 10,
              "solidity": 0.2
             }
            },
            "type": "bar"
           }
          ],
          "barpolar": [
           {
            "marker": {
             "line": {
              "color": "white",
              "width": 0.5
             },
             "pattern": {
              "fillmode": "overlay",
              "size": 10,
              "solidity": 0.2
             }
            },
            "type": "barpolar"
           }
          ],
          "carpet": [
           {
            "aaxis": {
             "endlinecolor": "#2a3f5f",
             "gridcolor": "#C8D4E3",
             "linecolor": "#C8D4E3",
             "minorgridcolor": "#C8D4E3",
             "startlinecolor": "#2a3f5f"
            },
            "baxis": {
             "endlinecolor": "#2a3f5f",
             "gridcolor": "#C8D4E3",
             "linecolor": "#C8D4E3",
             "minorgridcolor": "#C8D4E3",
             "startlinecolor": "#2a3f5f"
            },
            "type": "carpet"
           }
          ],
          "choropleth": [
           {
            "colorbar": {
             "outlinewidth": 0,
             "ticks": ""
            },
            "type": "choropleth"
           }
          ],
          "contour": [
           {
            "colorbar": {
             "outlinewidth": 0,
             "ticks": ""
            },
            "colorscale": [
             [
              0,
              "#0d0887"
             ],
             [
              0.1111111111111111,
              "#46039f"
             ],
             [
              0.2222222222222222,
              "#7201a8"
             ],
             [
              0.3333333333333333,
              "#9c179e"
             ],
             [
              0.4444444444444444,
              "#bd3786"
             ],
             [
              0.5555555555555556,
              "#d8576b"
             ],
             [
              0.6666666666666666,
              "#ed7953"
             ],
             [
              0.7777777777777778,
              "#fb9f3a"
             ],
             [
              0.8888888888888888,
              "#fdca26"
             ],
             [
              1,
              "#f0f921"
             ]
            ],
            "type": "contour"
           }
          ],
          "contourcarpet": [
           {
            "colorbar": {
             "outlinewidth": 0,
             "ticks": ""
            },
            "type": "contourcarpet"
           }
          ],
          "heatmap": [
           {
            "colorbar": {
             "outlinewidth": 0,
             "ticks": ""
            },
            "colorscale": [
             [
              0,
              "#0d0887"
             ],
             [
              0.1111111111111111,
              "#46039f"
             ],
             [
              0.2222222222222222,
              "#7201a8"
             ],
             [
              0.3333333333333333,
              "#9c179e"
             ],
             [
              0.4444444444444444,
              "#bd3786"
             ],
             [
              0.5555555555555556,
              "#d8576b"
             ],
             [
              0.6666666666666666,
              "#ed7953"
             ],
             [
              0.7777777777777778,
              "#fb9f3a"
             ],
             [
              0.8888888888888888,
              "#fdca26"
             ],
             [
              1,
              "#f0f921"
             ]
            ],
            "type": "heatmap"
           }
          ],
          "heatmapgl": [
           {
            "colorbar": {
             "outlinewidth": 0,
             "ticks": ""
            },
            "colorscale": [
             [
              0,
              "#0d0887"
             ],
             [
              0.1111111111111111,
              "#46039f"
             ],
             [
              0.2222222222222222,
              "#7201a8"
             ],
             [
              0.3333333333333333,
              "#9c179e"
             ],
             [
              0.4444444444444444,
              "#bd3786"
             ],
             [
              0.5555555555555556,
              "#d8576b"
             ],
             [
              0.6666666666666666,
              "#ed7953"
             ],
             [
              0.7777777777777778,
              "#fb9f3a"
             ],
             [
              0.8888888888888888,
              "#fdca26"
             ],
             [
              1,
              "#f0f921"
             ]
            ],
            "type": "heatmapgl"
           }
          ],
          "histogram": [
           {
            "marker": {
             "pattern": {
              "fillmode": "overlay",
              "size": 10,
              "solidity": 0.2
             }
            },
            "type": "histogram"
           }
          ],
          "histogram2d": [
           {
            "colorbar": {
             "outlinewidth": 0,
             "ticks": ""
            },
            "colorscale": [
             [
              0,
              "#0d0887"
             ],
             [
              0.1111111111111111,
              "#46039f"
             ],
             [
              0.2222222222222222,
              "#7201a8"
             ],
             [
              0.3333333333333333,
              "#9c179e"
             ],
             [
              0.4444444444444444,
              "#bd3786"
             ],
             [
              0.5555555555555556,
              "#d8576b"
             ],
             [
              0.6666666666666666,
              "#ed7953"
             ],
             [
              0.7777777777777778,
              "#fb9f3a"
             ],
             [
              0.8888888888888888,
              "#fdca26"
             ],
             [
              1,
              "#f0f921"
             ]
            ],
            "type": "histogram2d"
           }
          ],
          "histogram2dcontour": [
           {
            "colorbar": {
             "outlinewidth": 0,
             "ticks": ""
            },
            "colorscale": [
             [
              0,
              "#0d0887"
             ],
             [
              0.1111111111111111,
              "#46039f"
             ],
             [
              0.2222222222222222,
              "#7201a8"
             ],
             [
              0.3333333333333333,
              "#9c179e"
             ],
             [
              0.4444444444444444,
              "#bd3786"
             ],
             [
              0.5555555555555556,
              "#d8576b"
             ],
             [
              0.6666666666666666,
              "#ed7953"
             ],
             [
              0.7777777777777778,
              "#fb9f3a"
             ],
             [
              0.8888888888888888,
              "#fdca26"
             ],
             [
              1,
              "#f0f921"
             ]
            ],
            "type": "histogram2dcontour"
           }
          ],
          "mesh3d": [
           {
            "colorbar": {
             "outlinewidth": 0,
             "ticks": ""
            },
            "type": "mesh3d"
           }
          ],
          "parcoords": [
           {
            "line": {
             "colorbar": {
              "outlinewidth": 0,
              "ticks": ""
             }
            },
            "type": "parcoords"
           }
          ],
          "pie": [
           {
            "automargin": true,
            "type": "pie"
           }
          ],
          "scatter": [
           {
            "fillpattern": {
             "fillmode": "overlay",
             "size": 10,
             "solidity": 0.2
            },
            "type": "scatter"
           }
          ],
          "scatter3d": [
           {
            "line": {
             "colorbar": {
              "outlinewidth": 0,
              "ticks": ""
             }
            },
            "marker": {
             "colorbar": {
              "outlinewidth": 0,
              "ticks": ""
             }
            },
            "type": "scatter3d"
           }
          ],
          "scattercarpet": [
           {
            "marker": {
             "colorbar": {
              "outlinewidth": 0,
              "ticks": ""
             }
            },
            "type": "scattercarpet"
           }
          ],
          "scattergeo": [
           {
            "marker": {
             "colorbar": {
              "outlinewidth": 0,
              "ticks": ""
             }
            },
            "type": "scattergeo"
           }
          ],
          "scattergl": [
           {
            "marker": {
             "colorbar": {
              "outlinewidth": 0,
              "ticks": ""
             }
            },
            "type": "scattergl"
           }
          ],
          "scattermapbox": [
           {
            "marker": {
             "colorbar": {
              "outlinewidth": 0,
              "ticks": ""
             }
            },
            "type": "scattermapbox"
           }
          ],
          "scatterpolar": [
           {
            "marker": {
             "colorbar": {
              "outlinewidth": 0,
              "ticks": ""
             }
            },
            "type": "scatterpolar"
           }
          ],
          "scatterpolargl": [
           {
            "marker": {
             "colorbar": {
              "outlinewidth": 0,
              "ticks": ""
             }
            },
            "type": "scatterpolargl"
           }
          ],
          "scatterternary": [
           {
            "marker": {
             "colorbar": {
              "outlinewidth": 0,
              "ticks": ""
             }
            },
            "type": "scatterternary"
           }
          ],
          "surface": [
           {
            "colorbar": {
             "outlinewidth": 0,
             "ticks": ""
            },
            "colorscale": [
             [
              0,
              "#0d0887"
             ],
             [
              0.1111111111111111,
              "#46039f"
             ],
             [
              0.2222222222222222,
              "#7201a8"
             ],
             [
              0.3333333333333333,
              "#9c179e"
             ],
             [
              0.4444444444444444,
              "#bd3786"
             ],
             [
              0.5555555555555556,
              "#d8576b"
             ],
             [
              0.6666666666666666,
              "#ed7953"
             ],
             [
              0.7777777777777778,
              "#fb9f3a"
             ],
             [
              0.8888888888888888,
              "#fdca26"
             ],
             [
              1,
              "#f0f921"
             ]
            ],
            "type": "surface"
           }
          ],
          "table": [
           {
            "cells": {
             "fill": {
              "color": "#EBF0F8"
             },
             "line": {
              "color": "white"
             }
            },
            "header": {
             "fill": {
              "color": "#C8D4E3"
             },
             "line": {
              "color": "white"
             }
            },
            "type": "table"
           }
          ]
         },
         "layout": {
          "annotationdefaults": {
           "arrowcolor": "#2a3f5f",
           "arrowhead": 0,
           "arrowwidth": 1
          },
          "autotypenumbers": "strict",
          "coloraxis": {
           "colorbar": {
            "outlinewidth": 0,
            "ticks": ""
           }
          },
          "colorscale": {
           "diverging": [
            [
             0,
             "#8e0152"
            ],
            [
             0.1,
             "#c51b7d"
            ],
            [
             0.2,
             "#de77ae"
            ],
            [
             0.3,
             "#f1b6da"
            ],
            [
             0.4,
             "#fde0ef"
            ],
            [
             0.5,
             "#f7f7f7"
            ],
            [
             0.6,
             "#e6f5d0"
            ],
            [
             0.7,
             "#b8e186"
            ],
            [
             0.8,
             "#7fbc41"
            ],
            [
             0.9,
             "#4d9221"
            ],
            [
             1,
             "#276419"
            ]
           ],
           "sequential": [
            [
             0,
             "#0d0887"
            ],
            [
             0.1111111111111111,
             "#46039f"
            ],
            [
             0.2222222222222222,
             "#7201a8"
            ],
            [
             0.3333333333333333,
             "#9c179e"
            ],
            [
             0.4444444444444444,
             "#bd3786"
            ],
            [
             0.5555555555555556,
             "#d8576b"
            ],
            [
             0.6666666666666666,
             "#ed7953"
            ],
            [
             0.7777777777777778,
             "#fb9f3a"
            ],
            [
             0.8888888888888888,
             "#fdca26"
            ],
            [
             1,
             "#f0f921"
            ]
           ],
           "sequentialminus": [
            [
             0,
             "#0d0887"
            ],
            [
             0.1111111111111111,
             "#46039f"
            ],
            [
             0.2222222222222222,
             "#7201a8"
            ],
            [
             0.3333333333333333,
             "#9c179e"
            ],
            [
             0.4444444444444444,
             "#bd3786"
            ],
            [
             0.5555555555555556,
             "#d8576b"
            ],
            [
             0.6666666666666666,
             "#ed7953"
            ],
            [
             0.7777777777777778,
             "#fb9f3a"
            ],
            [
             0.8888888888888888,
             "#fdca26"
            ],
            [
             1,
             "#f0f921"
            ]
           ]
          },
          "colorway": [
           "#636efa",
           "#EF553B",
           "#00cc96",
           "#ab63fa",
           "#FFA15A",
           "#19d3f3",
           "#FF6692",
           "#B6E880",
           "#FF97FF",
           "#FECB52"
          ],
          "font": {
           "color": "#2a3f5f"
          },
          "geo": {
           "bgcolor": "white",
           "lakecolor": "white",
           "landcolor": "white",
           "showlakes": true,
           "showland": true,
           "subunitcolor": "#C8D4E3"
          },
          "hoverlabel": {
           "align": "left"
          },
          "hovermode": "closest",
          "mapbox": {
           "style": "light"
          },
          "paper_bgcolor": "white",
          "plot_bgcolor": "white",
          "polar": {
           "angularaxis": {
            "gridcolor": "#EBF0F8",
            "linecolor": "#EBF0F8",
            "ticks": ""
           },
           "bgcolor": "white",
           "radialaxis": {
            "gridcolor": "#EBF0F8",
            "linecolor": "#EBF0F8",
            "ticks": ""
           }
          },
          "scene": {
           "xaxis": {
            "backgroundcolor": "white",
            "gridcolor": "#DFE8F3",
            "gridwidth": 2,
            "linecolor": "#EBF0F8",
            "showbackground": true,
            "ticks": "",
            "zerolinecolor": "#EBF0F8"
           },
           "yaxis": {
            "backgroundcolor": "white",
            "gridcolor": "#DFE8F3",
            "gridwidth": 2,
            "linecolor": "#EBF0F8",
            "showbackground": true,
            "ticks": "",
            "zerolinecolor": "#EBF0F8"
           },
           "zaxis": {
            "backgroundcolor": "white",
            "gridcolor": "#DFE8F3",
            "gridwidth": 2,
            "linecolor": "#EBF0F8",
            "showbackground": true,
            "ticks": "",
            "zerolinecolor": "#EBF0F8"
           }
          },
          "shapedefaults": {
           "line": {
            "color": "#2a3f5f"
           }
          },
          "ternary": {
           "aaxis": {
            "gridcolor": "#DFE8F3",
            "linecolor": "#A2B1C6",
            "ticks": ""
           },
           "baxis": {
            "gridcolor": "#DFE8F3",
            "linecolor": "#A2B1C6",
            "ticks": ""
           },
           "bgcolor": "white",
           "caxis": {
            "gridcolor": "#DFE8F3",
            "linecolor": "#A2B1C6",
            "ticks": ""
           }
          },
          "title": {
           "x": 0.05
          },
          "xaxis": {
           "automargin": true,
           "gridcolor": "#EBF0F8",
           "linecolor": "#EBF0F8",
           "ticks": "",
           "title": {
            "standoff": 15
           },
           "zerolinecolor": "#EBF0F8",
           "zerolinewidth": 2
          },
          "yaxis": {
           "automargin": true,
           "gridcolor": "#EBF0F8",
           "linecolor": "#EBF0F8",
           "ticks": "",
           "title": {
            "standoff": 15
           },
           "zerolinecolor": "#EBF0F8",
           "zerolinewidth": 2
          }
         }
        },
        "title": {
         "text": "<b>🇶🇦 Qatar 2022</b><br>Comparative Lap Time Analysis - Riders"
        },
        "xaxis": {
         "anchor": "y",
         "domain": [
          0,
          1
         ],
         "title": {
          "text": "Laps"
         }
        },
        "yaxis": {
         "anchor": "x",
         "domain": [
          0,
          1
         ],
         "title": {
          "text": "Lap times (in seconds)"
         }
        }
       }
      }
     },
     "metadata": {},
     "output_type": "display_data"
    }
   ],
   "source": [
    "fig = px.line(\n",
    "    laptimes_ridersQAT, x='lap', \n",
    "    y=['avg_laptime', 'Enea Bastianini', 'Aleix Espargaro', 'Raul Fernandez'],\n",
    "    labels={'value':'Lap times (in seconds)', 'lap':'Laps'},\n",
    "    color_discrete_sequence=['grey', 'red', 'green', 'darkorange'],\n",
    "    title=\"<b>🇶🇦 Qatar 2022</b><br>Comparative Lap Time Analysis - Riders\")\n",
    "fig.update_layout(legend=dict(y=0.99, x=0.01, orientation='h'))\n",
    "fig.update_layout(legend_title_text='')\n",
    "fig.update_traces(selector=dict(name='avg_laptime'), name='Average')\n",
    "fig.update_layout(template=template)\n",
    "fig.show()"
   ]
  },
  {
   "attachments": {},
   "cell_type": "markdown",
   "metadata": {},
   "source": [
    "By projecting the *average lap time* (gray line), we can appreciate the general trend of the race. For example, in the case of Qatar, there is a decline in overall performance starting from the seventeenth lap. Similarly, there is a significant performance drop in the Italian Grand Prix race starting from the sixteenth lap. **This analysis helps to evaluate tire performance**.\n",
    "\n",
    "Regarding the personal lap times of the riders, we can notice that both Enea Bastianini (who arrived in 1st place) and Aleix Espargaro (who arrived in 4th place) performed well below the average (gray line), unlike Raul Fernandez, for example (orange line), who consistently raced above the general average of the competition. Similar considerations can also be applied to the Italian Grand Prix, as shown below."
   ]
  },
  {
   "cell_type": "code",
   "execution_count": 8,
   "metadata": {},
   "outputs": [],
   "source": [
    "timesheetITA, laptimes_ridersITA, laptimes_teamsITA, laptimes_constructorsITA, performanceITA = ita2022.race_analysis(save_pdf=False, performance=True)"
   ]
  },
  {
   "cell_type": "code",
   "execution_count": 9,
   "metadata": {},
   "outputs": [
    {
     "data": {
      "application/vnd.plotly.v1+json": {
       "config": {
        "plotlyServerURL": "https://plot.ly"
       },
       "data": [
        {
         "hovertemplate": "variable=avg_laptime<br>Laps=%{x}<br>Lap times (in seconds)=%{y}<extra></extra>",
         "legendgroup": "avg_laptime",
         "line": {
          "color": "grey",
          "dash": "solid"
         },
         "marker": {
          "symbol": "circle"
         },
         "mode": "lines",
         "name": "Media",
         "orientation": "v",
         "showlegend": true,
         "type": "scatter",
         "x": [
          1,
          2,
          3,
          4,
          5,
          6,
          7,
          8,
          9,
          10,
          11,
          12,
          13,
          14,
          15,
          16,
          17,
          18,
          19,
          20,
          21,
          22,
          23
         ],
         "xaxis": "x",
         "y": [
          116.39561538461537,
          108.11449999999999,
          107.87826923076922,
          107.54446153846152,
          107.81096,
          108.34052,
          109.00932,
          107.94717391304347,
          108.10004347826087,
          107.93421739130436,
          107.98095652173913,
          108.05530434782608,
          108.1178260869565,
          108.3269090909091,
          108.15654545454545,
          108.04177272727274,
          108.14086363636365,
          108.21504545454546,
          108.2813181818182,
          108.23581818181819,
          108.3886818181818,
          108.37286363636363,
          108.51023809523811
         ],
         "yaxis": "y"
        },
        {
         "hovertemplate": "variable=Francesco Bagnaia<br>Laps=%{x}<br>Lap times (in seconds)=%{y}<extra></extra>",
         "legendgroup": "Francesco Bagnaia",
         "line": {
          "color": "red",
          "dash": "solid"
         },
         "marker": {
          "symbol": "circle"
         },
         "mode": "lines",
         "name": "Francesco Bagnaia",
         "orientation": "v",
         "showlegend": true,
         "type": "scatter",
         "x": [
          1,
          2,
          3,
          4,
          5,
          6,
          7,
          8,
          9,
          10,
          11,
          12,
          13,
          14,
          15,
          16,
          17,
          18,
          19,
          20,
          21,
          22,
          23
         ],
         "xaxis": "x",
         "y": [
          115.417,
          107.489,
          106.94,
          107.001,
          106.588,
          106.778,
          107.215,
          107.32,
          107.498,
          107.174,
          107.411,
          107.602,
          107.444,
          107.466,
          107.652,
          107.255,
          107.545,
          107.665,
          107.298,
          107.902,
          107.725,
          108.05,
          108.488
         ],
         "yaxis": "y"
        },
        {
         "hovertemplate": "variable=Fabio Quartararo<br>Laps=%{x}<br>Lap times (in seconds)=%{y}<extra></extra>",
         "legendgroup": "Fabio Quartararo",
         "line": {
          "color": "blue",
          "dash": "solid"
         },
         "marker": {
          "symbol": "circle"
         },
         "mode": "lines",
         "name": "Fabio Quartararo",
         "orientation": "v",
         "showlegend": true,
         "type": "scatter",
         "x": [
          1,
          2,
          3,
          4,
          5,
          6,
          7,
          8,
          9,
          10,
          11,
          12,
          13,
          14,
          15,
          16,
          17,
          18,
          19,
          20,
          21,
          22,
          23
         ],
         "xaxis": "x",
         "y": [
          115.108,
          107.266,
          107.059,
          106.868,
          107.136,
          107.25,
          107.243,
          107.379,
          107.572,
          107.374,
          107.529,
          107.714,
          107.543,
          107.459,
          107.56,
          107.326,
          107.464,
          107.539,
          107.636,
          107.72,
          107.874,
          107.956,
          107.983
         ],
         "yaxis": "y"
        },
        {
         "hovertemplate": "variable=Andrea Dovizioso<br>Laps=%{x}<br>Lap times (in seconds)=%{y}<extra></extra>",
         "legendgroup": "Andrea Dovizioso",
         "line": {
          "color": "aqua",
          "dash": "solid"
         },
         "marker": {
          "symbol": "circle"
         },
         "mode": "lines",
         "name": "Andrea Dovizioso",
         "orientation": "v",
         "showlegend": true,
         "type": "scatter",
         "x": [
          1,
          2,
          3,
          4,
          5,
          6,
          7,
          8,
          9,
          10,
          11,
          12,
          13,
          14,
          15,
          16,
          17,
          18,
          19,
          20,
          21,
          22,
          23
         ],
         "xaxis": "x",
         "y": [
          117.669,
          109.084,
          108.975,
          108.577,
          108.272,
          108.369,
          108.577,
          108.855,
          108.624,
          108.653,
          108.925,
          108.767,
          108.714,
          109.025,
          108.883,
          108.942,
          108.596,
          108.806,
          108.922,
          108.767,
          108.593,
          108.765,
          108.574
         ],
         "yaxis": "y"
        }
       ],
       "layout": {
        "legend": {
         "orientation": "h",
         "title": {
          "text": ""
         },
         "tracegroupgap": 0,
         "x": 0.01,
         "y": 0.99
        },
        "template": {
         "data": {
          "bar": [
           {
            "error_x": {
             "color": "#2a3f5f"
            },
            "error_y": {
             "color": "#2a3f5f"
            },
            "marker": {
             "line": {
              "color": "white",
              "width": 0.5
             },
             "pattern": {
              "fillmode": "overlay",
              "size": 10,
              "solidity": 0.2
             }
            },
            "type": "bar"
           }
          ],
          "barpolar": [
           {
            "marker": {
             "line": {
              "color": "white",
              "width": 0.5
             },
             "pattern": {
              "fillmode": "overlay",
              "size": 10,
              "solidity": 0.2
             }
            },
            "type": "barpolar"
           }
          ],
          "carpet": [
           {
            "aaxis": {
             "endlinecolor": "#2a3f5f",
             "gridcolor": "#C8D4E3",
             "linecolor": "#C8D4E3",
             "minorgridcolor": "#C8D4E3",
             "startlinecolor": "#2a3f5f"
            },
            "baxis": {
             "endlinecolor": "#2a3f5f",
             "gridcolor": "#C8D4E3",
             "linecolor": "#C8D4E3",
             "minorgridcolor": "#C8D4E3",
             "startlinecolor": "#2a3f5f"
            },
            "type": "carpet"
           }
          ],
          "choropleth": [
           {
            "colorbar": {
             "outlinewidth": 0,
             "ticks": ""
            },
            "type": "choropleth"
           }
          ],
          "contour": [
           {
            "colorbar": {
             "outlinewidth": 0,
             "ticks": ""
            },
            "colorscale": [
             [
              0,
              "#0d0887"
             ],
             [
              0.1111111111111111,
              "#46039f"
             ],
             [
              0.2222222222222222,
              "#7201a8"
             ],
             [
              0.3333333333333333,
              "#9c179e"
             ],
             [
              0.4444444444444444,
              "#bd3786"
             ],
             [
              0.5555555555555556,
              "#d8576b"
             ],
             [
              0.6666666666666666,
              "#ed7953"
             ],
             [
              0.7777777777777778,
              "#fb9f3a"
             ],
             [
              0.8888888888888888,
              "#fdca26"
             ],
             [
              1,
              "#f0f921"
             ]
            ],
            "type": "contour"
           }
          ],
          "contourcarpet": [
           {
            "colorbar": {
             "outlinewidth": 0,
             "ticks": ""
            },
            "type": "contourcarpet"
           }
          ],
          "heatmap": [
           {
            "colorbar": {
             "outlinewidth": 0,
             "ticks": ""
            },
            "colorscale": [
             [
              0,
              "#0d0887"
             ],
             [
              0.1111111111111111,
              "#46039f"
             ],
             [
              0.2222222222222222,
              "#7201a8"
             ],
             [
              0.3333333333333333,
              "#9c179e"
             ],
             [
              0.4444444444444444,
              "#bd3786"
             ],
             [
              0.5555555555555556,
              "#d8576b"
             ],
             [
              0.6666666666666666,
              "#ed7953"
             ],
             [
              0.7777777777777778,
              "#fb9f3a"
             ],
             [
              0.8888888888888888,
              "#fdca26"
             ],
             [
              1,
              "#f0f921"
             ]
            ],
            "type": "heatmap"
           }
          ],
          "heatmapgl": [
           {
            "colorbar": {
             "outlinewidth": 0,
             "ticks": ""
            },
            "colorscale": [
             [
              0,
              "#0d0887"
             ],
             [
              0.1111111111111111,
              "#46039f"
             ],
             [
              0.2222222222222222,
              "#7201a8"
             ],
             [
              0.3333333333333333,
              "#9c179e"
             ],
             [
              0.4444444444444444,
              "#bd3786"
             ],
             [
              0.5555555555555556,
              "#d8576b"
             ],
             [
              0.6666666666666666,
              "#ed7953"
             ],
             [
              0.7777777777777778,
              "#fb9f3a"
             ],
             [
              0.8888888888888888,
              "#fdca26"
             ],
             [
              1,
              "#f0f921"
             ]
            ],
            "type": "heatmapgl"
           }
          ],
          "histogram": [
           {
            "marker": {
             "pattern": {
              "fillmode": "overlay",
              "size": 10,
              "solidity": 0.2
             }
            },
            "type": "histogram"
           }
          ],
          "histogram2d": [
           {
            "colorbar": {
             "outlinewidth": 0,
             "ticks": ""
            },
            "colorscale": [
             [
              0,
              "#0d0887"
             ],
             [
              0.1111111111111111,
              "#46039f"
             ],
             [
              0.2222222222222222,
              "#7201a8"
             ],
             [
              0.3333333333333333,
              "#9c179e"
             ],
             [
              0.4444444444444444,
              "#bd3786"
             ],
             [
              0.5555555555555556,
              "#d8576b"
             ],
             [
              0.6666666666666666,
              "#ed7953"
             ],
             [
              0.7777777777777778,
              "#fb9f3a"
             ],
             [
              0.8888888888888888,
              "#fdca26"
             ],
             [
              1,
              "#f0f921"
             ]
            ],
            "type": "histogram2d"
           }
          ],
          "histogram2dcontour": [
           {
            "colorbar": {
             "outlinewidth": 0,
             "ticks": ""
            },
            "colorscale": [
             [
              0,
              "#0d0887"
             ],
             [
              0.1111111111111111,
              "#46039f"
             ],
             [
              0.2222222222222222,
              "#7201a8"
             ],
             [
              0.3333333333333333,
              "#9c179e"
             ],
             [
              0.4444444444444444,
              "#bd3786"
             ],
             [
              0.5555555555555556,
              "#d8576b"
             ],
             [
              0.6666666666666666,
              "#ed7953"
             ],
             [
              0.7777777777777778,
              "#fb9f3a"
             ],
             [
              0.8888888888888888,
              "#fdca26"
             ],
             [
              1,
              "#f0f921"
             ]
            ],
            "type": "histogram2dcontour"
           }
          ],
          "mesh3d": [
           {
            "colorbar": {
             "outlinewidth": 0,
             "ticks": ""
            },
            "type": "mesh3d"
           }
          ],
          "parcoords": [
           {
            "line": {
             "colorbar": {
              "outlinewidth": 0,
              "ticks": ""
             }
            },
            "type": "parcoords"
           }
          ],
          "pie": [
           {
            "automargin": true,
            "type": "pie"
           }
          ],
          "scatter": [
           {
            "fillpattern": {
             "fillmode": "overlay",
             "size": 10,
             "solidity": 0.2
            },
            "type": "scatter"
           }
          ],
          "scatter3d": [
           {
            "line": {
             "colorbar": {
              "outlinewidth": 0,
              "ticks": ""
             }
            },
            "marker": {
             "colorbar": {
              "outlinewidth": 0,
              "ticks": ""
             }
            },
            "type": "scatter3d"
           }
          ],
          "scattercarpet": [
           {
            "marker": {
             "colorbar": {
              "outlinewidth": 0,
              "ticks": ""
             }
            },
            "type": "scattercarpet"
           }
          ],
          "scattergeo": [
           {
            "marker": {
             "colorbar": {
              "outlinewidth": 0,
              "ticks": ""
             }
            },
            "type": "scattergeo"
           }
          ],
          "scattergl": [
           {
            "marker": {
             "colorbar": {
              "outlinewidth": 0,
              "ticks": ""
             }
            },
            "type": "scattergl"
           }
          ],
          "scattermapbox": [
           {
            "marker": {
             "colorbar": {
              "outlinewidth": 0,
              "ticks": ""
             }
            },
            "type": "scattermapbox"
           }
          ],
          "scatterpolar": [
           {
            "marker": {
             "colorbar": {
              "outlinewidth": 0,
              "ticks": ""
             }
            },
            "type": "scatterpolar"
           }
          ],
          "scatterpolargl": [
           {
            "marker": {
             "colorbar": {
              "outlinewidth": 0,
              "ticks": ""
             }
            },
            "type": "scatterpolargl"
           }
          ],
          "scatterternary": [
           {
            "marker": {
             "colorbar": {
              "outlinewidth": 0,
              "ticks": ""
             }
            },
            "type": "scatterternary"
           }
          ],
          "surface": [
           {
            "colorbar": {
             "outlinewidth": 0,
             "ticks": ""
            },
            "colorscale": [
             [
              0,
              "#0d0887"
             ],
             [
              0.1111111111111111,
              "#46039f"
             ],
             [
              0.2222222222222222,
              "#7201a8"
             ],
             [
              0.3333333333333333,
              "#9c179e"
             ],
             [
              0.4444444444444444,
              "#bd3786"
             ],
             [
              0.5555555555555556,
              "#d8576b"
             ],
             [
              0.6666666666666666,
              "#ed7953"
             ],
             [
              0.7777777777777778,
              "#fb9f3a"
             ],
             [
              0.8888888888888888,
              "#fdca26"
             ],
             [
              1,
              "#f0f921"
             ]
            ],
            "type": "surface"
           }
          ],
          "table": [
           {
            "cells": {
             "fill": {
              "color": "#EBF0F8"
             },
             "line": {
              "color": "white"
             }
            },
            "header": {
             "fill": {
              "color": "#C8D4E3"
             },
             "line": {
              "color": "white"
             }
            },
            "type": "table"
           }
          ]
         },
         "layout": {
          "annotationdefaults": {
           "arrowcolor": "#2a3f5f",
           "arrowhead": 0,
           "arrowwidth": 1
          },
          "autotypenumbers": "strict",
          "coloraxis": {
           "colorbar": {
            "outlinewidth": 0,
            "ticks": ""
           }
          },
          "colorscale": {
           "diverging": [
            [
             0,
             "#8e0152"
            ],
            [
             0.1,
             "#c51b7d"
            ],
            [
             0.2,
             "#de77ae"
            ],
            [
             0.3,
             "#f1b6da"
            ],
            [
             0.4,
             "#fde0ef"
            ],
            [
             0.5,
             "#f7f7f7"
            ],
            [
             0.6,
             "#e6f5d0"
            ],
            [
             0.7,
             "#b8e186"
            ],
            [
             0.8,
             "#7fbc41"
            ],
            [
             0.9,
             "#4d9221"
            ],
            [
             1,
             "#276419"
            ]
           ],
           "sequential": [
            [
             0,
             "#0d0887"
            ],
            [
             0.1111111111111111,
             "#46039f"
            ],
            [
             0.2222222222222222,
             "#7201a8"
            ],
            [
             0.3333333333333333,
             "#9c179e"
            ],
            [
             0.4444444444444444,
             "#bd3786"
            ],
            [
             0.5555555555555556,
             "#d8576b"
            ],
            [
             0.6666666666666666,
             "#ed7953"
            ],
            [
             0.7777777777777778,
             "#fb9f3a"
            ],
            [
             0.8888888888888888,
             "#fdca26"
            ],
            [
             1,
             "#f0f921"
            ]
           ],
           "sequentialminus": [
            [
             0,
             "#0d0887"
            ],
            [
             0.1111111111111111,
             "#46039f"
            ],
            [
             0.2222222222222222,
             "#7201a8"
            ],
            [
             0.3333333333333333,
             "#9c179e"
            ],
            [
             0.4444444444444444,
             "#bd3786"
            ],
            [
             0.5555555555555556,
             "#d8576b"
            ],
            [
             0.6666666666666666,
             "#ed7953"
            ],
            [
             0.7777777777777778,
             "#fb9f3a"
            ],
            [
             0.8888888888888888,
             "#fdca26"
            ],
            [
             1,
             "#f0f921"
            ]
           ]
          },
          "colorway": [
           "#636efa",
           "#EF553B",
           "#00cc96",
           "#ab63fa",
           "#FFA15A",
           "#19d3f3",
           "#FF6692",
           "#B6E880",
           "#FF97FF",
           "#FECB52"
          ],
          "font": {
           "color": "#2a3f5f"
          },
          "geo": {
           "bgcolor": "white",
           "lakecolor": "white",
           "landcolor": "white",
           "showlakes": true,
           "showland": true,
           "subunitcolor": "#C8D4E3"
          },
          "hoverlabel": {
           "align": "left"
          },
          "hovermode": "closest",
          "mapbox": {
           "style": "light"
          },
          "paper_bgcolor": "white",
          "plot_bgcolor": "white",
          "polar": {
           "angularaxis": {
            "gridcolor": "#EBF0F8",
            "linecolor": "#EBF0F8",
            "ticks": ""
           },
           "bgcolor": "white",
           "radialaxis": {
            "gridcolor": "#EBF0F8",
            "linecolor": "#EBF0F8",
            "ticks": ""
           }
          },
          "scene": {
           "xaxis": {
            "backgroundcolor": "white",
            "gridcolor": "#DFE8F3",
            "gridwidth": 2,
            "linecolor": "#EBF0F8",
            "showbackground": true,
            "ticks": "",
            "zerolinecolor": "#EBF0F8"
           },
           "yaxis": {
            "backgroundcolor": "white",
            "gridcolor": "#DFE8F3",
            "gridwidth": 2,
            "linecolor": "#EBF0F8",
            "showbackground": true,
            "ticks": "",
            "zerolinecolor": "#EBF0F8"
           },
           "zaxis": {
            "backgroundcolor": "white",
            "gridcolor": "#DFE8F3",
            "gridwidth": 2,
            "linecolor": "#EBF0F8",
            "showbackground": true,
            "ticks": "",
            "zerolinecolor": "#EBF0F8"
           }
          },
          "shapedefaults": {
           "line": {
            "color": "#2a3f5f"
           }
          },
          "ternary": {
           "aaxis": {
            "gridcolor": "#DFE8F3",
            "linecolor": "#A2B1C6",
            "ticks": ""
           },
           "baxis": {
            "gridcolor": "#DFE8F3",
            "linecolor": "#A2B1C6",
            "ticks": ""
           },
           "bgcolor": "white",
           "caxis": {
            "gridcolor": "#DFE8F3",
            "linecolor": "#A2B1C6",
            "ticks": ""
           }
          },
          "title": {
           "x": 0.05
          },
          "xaxis": {
           "automargin": true,
           "gridcolor": "#EBF0F8",
           "linecolor": "#EBF0F8",
           "ticks": "",
           "title": {
            "standoff": 15
           },
           "zerolinecolor": "#EBF0F8",
           "zerolinewidth": 2
          },
          "yaxis": {
           "automargin": true,
           "gridcolor": "#EBF0F8",
           "linecolor": "#EBF0F8",
           "ticks": "",
           "title": {
            "standoff": 15
           },
           "zerolinecolor": "#EBF0F8",
           "zerolinewidth": 2
          }
         }
        },
        "title": {
         "text": "<b>🇮🇹 Mugello 2022</b><br>Comparative Lap Time Analysis - Riders"
        },
        "xaxis": {
         "anchor": "y",
         "domain": [
          0,
          1
         ],
         "title": {
          "text": "Laps"
         }
        },
        "yaxis": {
         "anchor": "x",
         "domain": [
          0,
          1
         ],
         "title": {
          "text": "Lap times (in seconds)"
         }
        }
       }
      }
     },
     "metadata": {},
     "output_type": "display_data"
    }
   ],
   "source": [
    "fig = px.line(\n",
    "    laptimes_ridersITA, x='lap', \n",
    "    y=['avg_laptime', 'Francesco Bagnaia', 'Fabio Quartararo', 'Andrea Dovizioso'],\n",
    "    labels={'value':'Lap times (in seconds)', 'lap':'Laps'},\n",
    "    color_discrete_sequence=['grey', 'red', 'blue', 'aqua'],\n",
    "    title=\"<b>🇮🇹 Mugello 2022</b><br>Comparative Lap Time Analysis - Riders\")\n",
    "fig.update_layout(legend=dict(y=0.99, x=0.01, orientation='h'))\n",
    "fig.update_layout(legend_title_text='')\n",
    "fig.update_traces(selector=dict(name='avg_laptime'), name='Media')\n",
    "fig.update_layout(template=template)\n",
    "fig.show()"
   ]
  },
  {
   "attachments": {},
   "cell_type": "markdown",
   "metadata": {},
   "source": [
    "These graphs provide a visual and intuitive way to determine if a particular rider, team, or manufacturer has performed above, below, or at an average level. (It's important to note that the more a rider's lap times are below the average race's lap time, the faster they've gone). Using the same visualization concept for the concstructors, we can see how Yamaha and KTM consistently performed above average in the Qatar 2022 race, thus indicating that they \"underperformed\" compared to the other manufacturers."
   ]
  },
  {
   "cell_type": "code",
   "execution_count": 10,
   "metadata": {},
   "outputs": [
    {
     "data": {
      "application/vnd.plotly.v1+json": {
       "config": {
        "plotlyServerURL": "https://plot.ly"
       },
       "data": [
        {
         "hovertemplate": "variable=avg_laptime<br>Laps=%{x}<br>Lap Times (in seconds)=%{y}<extra></extra>",
         "legendgroup": "avg_laptime",
         "line": {
          "color": "grey",
          "dash": "solid"
         },
         "marker": {
          "symbol": "circle"
         },
         "mode": "lines",
         "name": "Media",
         "orientation": "v",
         "showlegend": true,
         "type": "scatter",
         "x": [
          1,
          2,
          3,
          4,
          5,
          6,
          7,
          8,
          9,
          10,
          11,
          12,
          13,
          14,
          15,
          16,
          17,
          18,
          19,
          20,
          21,
          22
         ],
         "xaxis": "x",
         "y": [
          122.72687500000002,
          115.80910416666666,
          115.33016666666667,
          115.42670833333331,
          115.49283333333334,
          115.50445833333333,
          115.41876388888888,
          115.40488888888888,
          115.26437499999999,
          115.39451388888888,
          115.35530555555556,
          115.38863888888888,
          115.38327777777778,
          115.424375,
          115.42577777777778,
          115.48523611111109,
          115.67375,
          115.64620833333333,
          115.79970833333333,
          115.86797222222224,
          115.78883333333333,
          116.12452777777777
         ],
         "yaxis": "y"
        },
        {
         "hovertemplate": "variable=Yamaha<br>Laps=%{x}<br>Lap Times (in seconds)=%{y}<extra></extra>",
         "legendgroup": "Yamaha",
         "line": {
          "color": "blue",
          "dash": "solid"
         },
         "marker": {
          "symbol": "circle"
         },
         "mode": "lines",
         "name": "Yamaha",
         "orientation": "v",
         "showlegend": true,
         "type": "scatter",
         "x": [
          1,
          2,
          3,
          4,
          5,
          6,
          7,
          8,
          9,
          10,
          11,
          12,
          13,
          14,
          15,
          16,
          17,
          18,
          19,
          20,
          21,
          22
         ],
         "xaxis": "x",
         "y": [
          123.4685,
          116.243,
          115.52875,
          115.66775,
          116.26375,
          115.81225,
          115.774,
          115.80225,
          115.97825,
          115.743,
          115.7195,
          115.71475,
          115.6195,
          115.73275,
          115.72325000000001,
          115.906,
          116.042,
          115.98725,
          116.00425,
          116.18925,
          115.95349999999999,
          116.2615
         ],
         "yaxis": "y"
        },
        {
         "hovertemplate": "variable=KTM<br>Laps=%{x}<br>Lap Times (in seconds)=%{y}<extra></extra>",
         "legendgroup": "KTM",
         "line": {
          "color": "darkorange",
          "dash": "solid"
         },
         "marker": {
          "symbol": "circle"
         },
         "mode": "lines",
         "name": "KTM",
         "orientation": "v",
         "showlegend": true,
         "type": "scatter",
         "x": [
          1,
          2,
          3,
          4,
          5,
          6,
          7,
          8,
          9,
          10,
          11,
          12,
          13,
          14,
          15,
          16,
          17,
          18,
          19,
          20,
          21,
          22
         ],
         "xaxis": "x",
         "y": [
          123.46475000000001,
          115.9475,
          115.70975,
          115.59975,
          115.625,
          115.833,
          115.66825,
          115.54025,
          115.383,
          115.73325,
          116.144,
          115.95533333333333,
          116.04033333333332,
          115.97500000000001,
          115.97033333333333,
          116.075,
          116.42199999999998,
          116.50999999999999,
          116.455,
          116.64166666666667,
          116.34633333333333,
          116.55566666666668
         ],
         "yaxis": "y"
        }
       ],
       "layout": {
        "legend": {
         "orientation": "h",
         "title": {
          "text": ""
         },
         "tracegroupgap": 0,
         "x": 0.01,
         "y": 0.99
        },
        "template": {
         "data": {
          "bar": [
           {
            "error_x": {
             "color": "#2a3f5f"
            },
            "error_y": {
             "color": "#2a3f5f"
            },
            "marker": {
             "line": {
              "color": "white",
              "width": 0.5
             },
             "pattern": {
              "fillmode": "overlay",
              "size": 10,
              "solidity": 0.2
             }
            },
            "type": "bar"
           }
          ],
          "barpolar": [
           {
            "marker": {
             "line": {
              "color": "white",
              "width": 0.5
             },
             "pattern": {
              "fillmode": "overlay",
              "size": 10,
              "solidity": 0.2
             }
            },
            "type": "barpolar"
           }
          ],
          "carpet": [
           {
            "aaxis": {
             "endlinecolor": "#2a3f5f",
             "gridcolor": "#C8D4E3",
             "linecolor": "#C8D4E3",
             "minorgridcolor": "#C8D4E3",
             "startlinecolor": "#2a3f5f"
            },
            "baxis": {
             "endlinecolor": "#2a3f5f",
             "gridcolor": "#C8D4E3",
             "linecolor": "#C8D4E3",
             "minorgridcolor": "#C8D4E3",
             "startlinecolor": "#2a3f5f"
            },
            "type": "carpet"
           }
          ],
          "choropleth": [
           {
            "colorbar": {
             "outlinewidth": 0,
             "ticks": ""
            },
            "type": "choropleth"
           }
          ],
          "contour": [
           {
            "colorbar": {
             "outlinewidth": 0,
             "ticks": ""
            },
            "colorscale": [
             [
              0,
              "#0d0887"
             ],
             [
              0.1111111111111111,
              "#46039f"
             ],
             [
              0.2222222222222222,
              "#7201a8"
             ],
             [
              0.3333333333333333,
              "#9c179e"
             ],
             [
              0.4444444444444444,
              "#bd3786"
             ],
             [
              0.5555555555555556,
              "#d8576b"
             ],
             [
              0.6666666666666666,
              "#ed7953"
             ],
             [
              0.7777777777777778,
              "#fb9f3a"
             ],
             [
              0.8888888888888888,
              "#fdca26"
             ],
             [
              1,
              "#f0f921"
             ]
            ],
            "type": "contour"
           }
          ],
          "contourcarpet": [
           {
            "colorbar": {
             "outlinewidth": 0,
             "ticks": ""
            },
            "type": "contourcarpet"
           }
          ],
          "heatmap": [
           {
            "colorbar": {
             "outlinewidth": 0,
             "ticks": ""
            },
            "colorscale": [
             [
              0,
              "#0d0887"
             ],
             [
              0.1111111111111111,
              "#46039f"
             ],
             [
              0.2222222222222222,
              "#7201a8"
             ],
             [
              0.3333333333333333,
              "#9c179e"
             ],
             [
              0.4444444444444444,
              "#bd3786"
             ],
             [
              0.5555555555555556,
              "#d8576b"
             ],
             [
              0.6666666666666666,
              "#ed7953"
             ],
             [
              0.7777777777777778,
              "#fb9f3a"
             ],
             [
              0.8888888888888888,
              "#fdca26"
             ],
             [
              1,
              "#f0f921"
             ]
            ],
            "type": "heatmap"
           }
          ],
          "heatmapgl": [
           {
            "colorbar": {
             "outlinewidth": 0,
             "ticks": ""
            },
            "colorscale": [
             [
              0,
              "#0d0887"
             ],
             [
              0.1111111111111111,
              "#46039f"
             ],
             [
              0.2222222222222222,
              "#7201a8"
             ],
             [
              0.3333333333333333,
              "#9c179e"
             ],
             [
              0.4444444444444444,
              "#bd3786"
             ],
             [
              0.5555555555555556,
              "#d8576b"
             ],
             [
              0.6666666666666666,
              "#ed7953"
             ],
             [
              0.7777777777777778,
              "#fb9f3a"
             ],
             [
              0.8888888888888888,
              "#fdca26"
             ],
             [
              1,
              "#f0f921"
             ]
            ],
            "type": "heatmapgl"
           }
          ],
          "histogram": [
           {
            "marker": {
             "pattern": {
              "fillmode": "overlay",
              "size": 10,
              "solidity": 0.2
             }
            },
            "type": "histogram"
           }
          ],
          "histogram2d": [
           {
            "colorbar": {
             "outlinewidth": 0,
             "ticks": ""
            },
            "colorscale": [
             [
              0,
              "#0d0887"
             ],
             [
              0.1111111111111111,
              "#46039f"
             ],
             [
              0.2222222222222222,
              "#7201a8"
             ],
             [
              0.3333333333333333,
              "#9c179e"
             ],
             [
              0.4444444444444444,
              "#bd3786"
             ],
             [
              0.5555555555555556,
              "#d8576b"
             ],
             [
              0.6666666666666666,
              "#ed7953"
             ],
             [
              0.7777777777777778,
              "#fb9f3a"
             ],
             [
              0.8888888888888888,
              "#fdca26"
             ],
             [
              1,
              "#f0f921"
             ]
            ],
            "type": "histogram2d"
           }
          ],
          "histogram2dcontour": [
           {
            "colorbar": {
             "outlinewidth": 0,
             "ticks": ""
            },
            "colorscale": [
             [
              0,
              "#0d0887"
             ],
             [
              0.1111111111111111,
              "#46039f"
             ],
             [
              0.2222222222222222,
              "#7201a8"
             ],
             [
              0.3333333333333333,
              "#9c179e"
             ],
             [
              0.4444444444444444,
              "#bd3786"
             ],
             [
              0.5555555555555556,
              "#d8576b"
             ],
             [
              0.6666666666666666,
              "#ed7953"
             ],
             [
              0.7777777777777778,
              "#fb9f3a"
             ],
             [
              0.8888888888888888,
              "#fdca26"
             ],
             [
              1,
              "#f0f921"
             ]
            ],
            "type": "histogram2dcontour"
           }
          ],
          "mesh3d": [
           {
            "colorbar": {
             "outlinewidth": 0,
             "ticks": ""
            },
            "type": "mesh3d"
           }
          ],
          "parcoords": [
           {
            "line": {
             "colorbar": {
              "outlinewidth": 0,
              "ticks": ""
             }
            },
            "type": "parcoords"
           }
          ],
          "pie": [
           {
            "automargin": true,
            "type": "pie"
           }
          ],
          "scatter": [
           {
            "fillpattern": {
             "fillmode": "overlay",
             "size": 10,
             "solidity": 0.2
            },
            "type": "scatter"
           }
          ],
          "scatter3d": [
           {
            "line": {
             "colorbar": {
              "outlinewidth": 0,
              "ticks": ""
             }
            },
            "marker": {
             "colorbar": {
              "outlinewidth": 0,
              "ticks": ""
             }
            },
            "type": "scatter3d"
           }
          ],
          "scattercarpet": [
           {
            "marker": {
             "colorbar": {
              "outlinewidth": 0,
              "ticks": ""
             }
            },
            "type": "scattercarpet"
           }
          ],
          "scattergeo": [
           {
            "marker": {
             "colorbar": {
              "outlinewidth": 0,
              "ticks": ""
             }
            },
            "type": "scattergeo"
           }
          ],
          "scattergl": [
           {
            "marker": {
             "colorbar": {
              "outlinewidth": 0,
              "ticks": ""
             }
            },
            "type": "scattergl"
           }
          ],
          "scattermapbox": [
           {
            "marker": {
             "colorbar": {
              "outlinewidth": 0,
              "ticks": ""
             }
            },
            "type": "scattermapbox"
           }
          ],
          "scatterpolar": [
           {
            "marker": {
             "colorbar": {
              "outlinewidth": 0,
              "ticks": ""
             }
            },
            "type": "scatterpolar"
           }
          ],
          "scatterpolargl": [
           {
            "marker": {
             "colorbar": {
              "outlinewidth": 0,
              "ticks": ""
             }
            },
            "type": "scatterpolargl"
           }
          ],
          "scatterternary": [
           {
            "marker": {
             "colorbar": {
              "outlinewidth": 0,
              "ticks": ""
             }
            },
            "type": "scatterternary"
           }
          ],
          "surface": [
           {
            "colorbar": {
             "outlinewidth": 0,
             "ticks": ""
            },
            "colorscale": [
             [
              0,
              "#0d0887"
             ],
             [
              0.1111111111111111,
              "#46039f"
             ],
             [
              0.2222222222222222,
              "#7201a8"
             ],
             [
              0.3333333333333333,
              "#9c179e"
             ],
             [
              0.4444444444444444,
              "#bd3786"
             ],
             [
              0.5555555555555556,
              "#d8576b"
             ],
             [
              0.6666666666666666,
              "#ed7953"
             ],
             [
              0.7777777777777778,
              "#fb9f3a"
             ],
             [
              0.8888888888888888,
              "#fdca26"
             ],
             [
              1,
              "#f0f921"
             ]
            ],
            "type": "surface"
           }
          ],
          "table": [
           {
            "cells": {
             "fill": {
              "color": "#EBF0F8"
             },
             "line": {
              "color": "white"
             }
            },
            "header": {
             "fill": {
              "color": "#C8D4E3"
             },
             "line": {
              "color": "white"
             }
            },
            "type": "table"
           }
          ]
         },
         "layout": {
          "annotationdefaults": {
           "arrowcolor": "#2a3f5f",
           "arrowhead": 0,
           "arrowwidth": 1
          },
          "autotypenumbers": "strict",
          "coloraxis": {
           "colorbar": {
            "outlinewidth": 0,
            "ticks": ""
           }
          },
          "colorscale": {
           "diverging": [
            [
             0,
             "#8e0152"
            ],
            [
             0.1,
             "#c51b7d"
            ],
            [
             0.2,
             "#de77ae"
            ],
            [
             0.3,
             "#f1b6da"
            ],
            [
             0.4,
             "#fde0ef"
            ],
            [
             0.5,
             "#f7f7f7"
            ],
            [
             0.6,
             "#e6f5d0"
            ],
            [
             0.7,
             "#b8e186"
            ],
            [
             0.8,
             "#7fbc41"
            ],
            [
             0.9,
             "#4d9221"
            ],
            [
             1,
             "#276419"
            ]
           ],
           "sequential": [
            [
             0,
             "#0d0887"
            ],
            [
             0.1111111111111111,
             "#46039f"
            ],
            [
             0.2222222222222222,
             "#7201a8"
            ],
            [
             0.3333333333333333,
             "#9c179e"
            ],
            [
             0.4444444444444444,
             "#bd3786"
            ],
            [
             0.5555555555555556,
             "#d8576b"
            ],
            [
             0.6666666666666666,
             "#ed7953"
            ],
            [
             0.7777777777777778,
             "#fb9f3a"
            ],
            [
             0.8888888888888888,
             "#fdca26"
            ],
            [
             1,
             "#f0f921"
            ]
           ],
           "sequentialminus": [
            [
             0,
             "#0d0887"
            ],
            [
             0.1111111111111111,
             "#46039f"
            ],
            [
             0.2222222222222222,
             "#7201a8"
            ],
            [
             0.3333333333333333,
             "#9c179e"
            ],
            [
             0.4444444444444444,
             "#bd3786"
            ],
            [
             0.5555555555555556,
             "#d8576b"
            ],
            [
             0.6666666666666666,
             "#ed7953"
            ],
            [
             0.7777777777777778,
             "#fb9f3a"
            ],
            [
             0.8888888888888888,
             "#fdca26"
            ],
            [
             1,
             "#f0f921"
            ]
           ]
          },
          "colorway": [
           "#636efa",
           "#EF553B",
           "#00cc96",
           "#ab63fa",
           "#FFA15A",
           "#19d3f3",
           "#FF6692",
           "#B6E880",
           "#FF97FF",
           "#FECB52"
          ],
          "font": {
           "color": "#2a3f5f"
          },
          "geo": {
           "bgcolor": "white",
           "lakecolor": "white",
           "landcolor": "white",
           "showlakes": true,
           "showland": true,
           "subunitcolor": "#C8D4E3"
          },
          "hoverlabel": {
           "align": "left"
          },
          "hovermode": "closest",
          "mapbox": {
           "style": "light"
          },
          "paper_bgcolor": "white",
          "plot_bgcolor": "white",
          "polar": {
           "angularaxis": {
            "gridcolor": "#EBF0F8",
            "linecolor": "#EBF0F8",
            "ticks": ""
           },
           "bgcolor": "white",
           "radialaxis": {
            "gridcolor": "#EBF0F8",
            "linecolor": "#EBF0F8",
            "ticks": ""
           }
          },
          "scene": {
           "xaxis": {
            "backgroundcolor": "white",
            "gridcolor": "#DFE8F3",
            "gridwidth": 2,
            "linecolor": "#EBF0F8",
            "showbackground": true,
            "ticks": "",
            "zerolinecolor": "#EBF0F8"
           },
           "yaxis": {
            "backgroundcolor": "white",
            "gridcolor": "#DFE8F3",
            "gridwidth": 2,
            "linecolor": "#EBF0F8",
            "showbackground": true,
            "ticks": "",
            "zerolinecolor": "#EBF0F8"
           },
           "zaxis": {
            "backgroundcolor": "white",
            "gridcolor": "#DFE8F3",
            "gridwidth": 2,
            "linecolor": "#EBF0F8",
            "showbackground": true,
            "ticks": "",
            "zerolinecolor": "#EBF0F8"
           }
          },
          "shapedefaults": {
           "line": {
            "color": "#2a3f5f"
           }
          },
          "ternary": {
           "aaxis": {
            "gridcolor": "#DFE8F3",
            "linecolor": "#A2B1C6",
            "ticks": ""
           },
           "baxis": {
            "gridcolor": "#DFE8F3",
            "linecolor": "#A2B1C6",
            "ticks": ""
           },
           "bgcolor": "white",
           "caxis": {
            "gridcolor": "#DFE8F3",
            "linecolor": "#A2B1C6",
            "ticks": ""
           }
          },
          "title": {
           "x": 0.05
          },
          "xaxis": {
           "automargin": true,
           "gridcolor": "#EBF0F8",
           "linecolor": "#EBF0F8",
           "ticks": "",
           "title": {
            "standoff": 15
           },
           "zerolinecolor": "#EBF0F8",
           "zerolinewidth": 2
          },
          "yaxis": {
           "automargin": true,
           "gridcolor": "#EBF0F8",
           "linecolor": "#EBF0F8",
           "ticks": "",
           "title": {
            "standoff": 15
           },
           "zerolinecolor": "#EBF0F8",
           "zerolinewidth": 2
          }
         }
        },
        "title": {
         "text": "<b>🇶🇦 Qatar 2022</b><br>Comparative Lap Time Analysis - Constructors"
        },
        "xaxis": {
         "anchor": "y",
         "domain": [
          0,
          1
         ],
         "title": {
          "text": "Laps"
         }
        },
        "yaxis": {
         "anchor": "x",
         "domain": [
          0,
          1
         ],
         "title": {
          "text": "Lap Times (in seconds)"
         }
        }
       }
      }
     },
     "metadata": {},
     "output_type": "display_data"
    }
   ],
   "source": [
    "fig = px.line(\n",
    "    laptimes_constructorsQAT, x='lap', \n",
    "    y=['avg_laptime', 'Yamaha', 'KTM'],\n",
    "    labels={'value':'Lap Times (in seconds)', 'lap':'Laps'},\n",
    "    color_discrete_sequence=['grey', 'blue', 'darkorange'],\n",
    "    title=\"<b>🇶🇦 Qatar 2022</b><br>Comparative Lap Time Analysis - Constructors\")\n",
    "fig.update_layout(legend=dict(y=0.99, x=0.01, orientation='h'))\n",
    "fig.update_layout(legend_title_text='')\n",
    "fig.update_traces(selector=dict(name='avg_laptime'), name='Media')\n",
    "fig.update_layout(template=template)\n",
    "fig.show()"
   ]
  },
  {
   "attachments": {},
   "cell_type": "markdown",
   "metadata": {},
   "source": [
    "## Sector times\n",
    "\n",
    "In an aggregate manner, it is also possible to determine variation indicators for each sector of the circuit, thereby appreciating the overall level of consistency of the riders in the various sections of the track. For example, we can observe that in the case of the Qatar Grand Prix, the consistency of lap times in different sectors is almost identical, while at Mugello, the sector in which the drivers were on average more consistent is T2."
   ]
  },
  {
   "cell_type": "code",
   "execution_count": 11,
   "metadata": {},
   "outputs": [
    {
     "name": "stdout",
     "output_type": "stream",
     "text": [
      "🇶🇦 Qatar Grand Prix 2022\n",
      "Sector Pace:\n"
     ]
    },
    {
     "data": {
      "text/html": [
       "<div>\n",
       "<style scoped>\n",
       "    .dataframe tbody tr th:only-of-type {\n",
       "        vertical-align: middle;\n",
       "    }\n",
       "\n",
       "    .dataframe tbody tr th {\n",
       "        vertical-align: top;\n",
       "    }\n",
       "\n",
       "    .dataframe thead th {\n",
       "        text-align: right;\n",
       "    }\n",
       "</style>\n",
       "<table border=\"1\" class=\"dataframe\">\n",
       "  <thead>\n",
       "    <tr style=\"text-align: right;\">\n",
       "      <th></th>\n",
       "      <th>t1</th>\n",
       "      <th>t2</th>\n",
       "      <th>t3</th>\n",
       "      <th>t4</th>\n",
       "    </tr>\n",
       "  </thead>\n",
       "  <tbody>\n",
       "    <tr>\n",
       "      <th>σ</th>\n",
       "      <td>0.21</td>\n",
       "      <td>0.23</td>\n",
       "      <td>0.21</td>\n",
       "      <td>0.21</td>\n",
       "    </tr>\n",
       "  </tbody>\n",
       "</table>\n",
       "</div>"
      ],
      "text/plain": [
       "     t1    t2    t3    t4\n",
       "σ  0.21  0.23  0.21  0.21"
      ]
     },
     "execution_count": 11,
     "metadata": {},
     "output_type": "execute_result"
    }
   ],
   "source": [
    "std_race = pd.DataFrame(timesheetQAT[timesheetQAT['lap'] != 1][['t1', 't2', 't3', 't4']].std())\n",
    "std_race = std_race.pivot_table(columns=std_race.index).round(2)\n",
    "std_race.index = ['σ']\n",
    "print(\"🇶🇦 Qatar Grand Prix 2022\\nSector Pace:\")\n",
    "std_race"
   ]
  },
  {
   "cell_type": "code",
   "execution_count": 12,
   "metadata": {},
   "outputs": [
    {
     "name": "stdout",
     "output_type": "stream",
     "text": [
      "🇮🇹 Italian Grand Prix 2022\n",
      "Sector pace:\n"
     ]
    },
    {
     "data": {
      "text/html": [
       "<div>\n",
       "<style scoped>\n",
       "    .dataframe tbody tr th:only-of-type {\n",
       "        vertical-align: middle;\n",
       "    }\n",
       "\n",
       "    .dataframe tbody tr th {\n",
       "        vertical-align: top;\n",
       "    }\n",
       "\n",
       "    .dataframe thead th {\n",
       "        text-align: right;\n",
       "    }\n",
       "</style>\n",
       "<table border=\"1\" class=\"dataframe\">\n",
       "  <thead>\n",
       "    <tr style=\"text-align: right;\">\n",
       "      <th></th>\n",
       "      <th>t1</th>\n",
       "      <th>t2</th>\n",
       "      <th>t3</th>\n",
       "      <th>t4</th>\n",
       "    </tr>\n",
       "  </thead>\n",
       "  <tbody>\n",
       "    <tr>\n",
       "      <th>σ</th>\n",
       "      <td>0.46</td>\n",
       "      <td>0.24</td>\n",
       "      <td>0.74</td>\n",
       "      <td>0.45</td>\n",
       "    </tr>\n",
       "  </tbody>\n",
       "</table>\n",
       "</div>"
      ],
      "text/plain": [
       "     t1    t2    t3    t4\n",
       "σ  0.46  0.24  0.74  0.45"
      ]
     },
     "execution_count": 12,
     "metadata": {},
     "output_type": "execute_result"
    }
   ],
   "source": [
    "std_race = pd.DataFrame(timesheetITA[timesheetITA['lap'] != 1][['t1', 't2', 't3', 't4']].std())\n",
    "std_race = std_race.pivot_table(columns=std_race.index).round(2)\n",
    "std_race.index = ['σ']\n",
    "print(\"🇮🇹 Italian Grand Prix 2022\\nSector pace:\")\n",
    "std_race"
   ]
  },
  {
   "attachments": {},
   "cell_type": "markdown",
   "metadata": {},
   "source": [
    "The same principle of analysis can be applied to the fastest times set by riders in the different sectors of the track. At the Mugello Grand Prix, we can see, for example, how Yamaha, with Fabio Quartararo, was the fastest in T2 and T3. In contrast, the Ducatis of Bagnaia and Bastianini expressed the best times in the sectors with higher top speeds (T1 and T4)."
   ]
  },
  {
   "cell_type": "code",
   "execution_count": 13,
   "metadata": {},
   "outputs": [
    {
     "name": "stdout",
     "output_type": "stream",
     "text": [
      "🇮🇹 Italian Grand Prix 2022\n",
      "Fastest sector times:\n",
      "\n",
      "   constructor              rider  fastest_time\n",
      "t1      Ducati  Francesco Bagnaia        24.868\n",
      "t2      Yamaha   Fabio Quartararo        22.499\n",
      "t3      Yamaha   Fabio Quartararo        34.842\n",
      "t4      Ducati    Enea Bastianini        23.998\n"
     ]
    }
   ],
   "source": [
    "by_rider = timesheetITA[timesheetITA['lap'] != 1].groupby(['constructor', 'rider'])[['t1', 't2', 't3', 't4']].min().round(3)\n",
    "rider_with_min = by_rider.idxmin()\n",
    "const_t = pd.DataFrame({\n",
    "    'rider': rider_with_min, \n",
    "    'fastest_time': by_rider.min()})\n",
    "const_t[['constructor', 'rider']] = pd.DataFrame(const_t['rider'].tolist(), index=const_t.index)\n",
    "print(\"🇮🇹 Italian Grand Prix 2022\\nFastest sector times:\\n\")\n",
    "print(const_t[['constructor', 'rider', 'fastest_time']])"
   ]
  },
  {
   "attachments": {},
   "cell_type": "markdown",
   "metadata": {},
   "source": [
    "In general, analyzing sector times under different measures of aggregation (average time, minimum, maximum, consistency in terms of standard deviation, etc.) can reveal interesting points of comparison to evaluate the adaptation to the track of riders, teams, and constructors.\n",
    "\n",
    "# Performance analysis\n",
    "\n",
    "Although an analysis of times like this already gives a clear idea of the general trend of the race, it alone cannot provide an answer to our initial question. In fact, to quantify riders' performances, it is necessary to deepen the analysis and develop quantitative indicators.\n",
    "\n",
    "## The Performance Matrix\n",
    "\n",
    "Motorsports performance, can be defined as \"*how consistently fast a rider has been*\" - relative to the number of laps completed. Therefore, at a conceptual level, the so-called \"pace\" can be theorized as the aggregation of two fundamental variables: consistency and speed. To achieve high positions in the rankings, a rider must in fact be both fast and consistent.\n",
    "\n",
    "Visually, the relationship between these two variables can be demonstrated with the help of a matrix - shown below - which we will call the \"performance matrix\". The graph represents the ratio between the two indicators (*relative speed* on the y-axis and *relative consistency* on the x-axis) for each participant in the race, in relation to their average located at the axes $x,y=0$ (black lines). This means that the performance of the riders located in the upper-right quadrant of the graph are above average, both in terms of speed and consistency. Conversely, those located in the lower-left quadrant have \"underperformed\" below average (for both variables)."
   ]
  },
  {
   "cell_type": "code",
   "execution_count": 14,
   "metadata": {},
   "outputs": [],
   "source": [
    "perf_cols = ['rider', 'constructor', 'grid', 'position', 'pos_delta', 'points', 'avg_laptime', 'avg_speed', 'delta_avg_laptime', 'pace_speed_index', 'delta_std_laptime', 'pace_consistency_index', 'performance_index']\n",
    "performanceQAT = performanceQAT[perf_cols].set_index('rider').round(2)"
   ]
  },
  {
   "cell_type": "code",
   "execution_count": 15,
   "metadata": {},
   "outputs": [
    {
     "data": {
      "application/vnd.plotly.v1+json": {
       "config": {
        "plotlyServerURL": "https://plot.ly"
       },
       "data": [
        {
         "hovertemplate": "constructor=Ducati<br>Relative Consistency Indicator (in seconds)=%{x}<br>Relative Speed Indicator (in seconds)=%{y}<br>text=%{text}<extra></extra>",
         "legendgroup": "Ducati",
         "marker": {
          "color": "red",
          "size": 8,
          "symbol": "circle"
         },
         "mode": "markers+text",
         "name": "Ducati",
         "orientation": "v",
         "showlegend": true,
         "text": [
          "25",
          "8",
          "3",
          "",
          "",
          "",
          "",
          ""
         ],
         "textposition": "top center",
         "type": "scatter",
         "x": [
          0.39,
          -0.06,
          0.11,
          -0.06,
          -0.09,
          -0.35,
          -0.28,
          -0.22
         ],
         "xaxis": "x",
         "y": [
          0.89,
          0.41,
          -0.35,
          -0.99,
          0.12,
          -0.23,
          0.12,
          -0.27
         ],
         "yaxis": "y"
        },
        {
         "hovertemplate": "constructor=KTM<br>Relative Consistency Indicator (in seconds)=%{x}<br>Relative Speed Indicator (in seconds)=%{y}<br>text=%{text}<extra></extra>",
         "legendgroup": "KTM",
         "marker": {
          "color": "darkorange",
          "size": 8,
          "symbol": "circle"
         },
         "mode": "markers+text",
         "name": "KTM",
         "orientation": "v",
         "showlegend": true,
         "text": [
          "20",
          "1",
          "",
          ""
         ],
         "textposition": "top center",
         "type": "scatter",
         "x": [
          0.51,
          -0.03,
          -0.05,
          -0.23
         ],
         "xaxis": "x",
         "y": [
          0.87,
          -0.98,
          -1.04,
          0.02
         ],
         "yaxis": "y"
        },
        {
         "hovertemplate": "constructor=Honda<br>Relative Consistency Indicator (in seconds)=%{x}<br>Relative Speed Indicator (in seconds)=%{y}<br>text=%{text}<extra></extra>",
         "legendgroup": "Honda",
         "marker": {
          "color": "orange",
          "size": 8,
          "symbol": "circle"
         },
         "mode": "markers+text",
         "name": "Honda",
         "orientation": "v",
         "showlegend": true,
         "text": [
          "16",
          "11",
          "6",
          ""
         ],
         "textposition": "top center",
         "type": "scatter",
         "x": [
          0.52,
          0.59,
          0.25,
          -0.22
         ],
         "xaxis": "x",
         "y": [
          0.83,
          0.7,
          0.21,
          -0.07
         ],
         "yaxis": "y"
        },
        {
         "hovertemplate": "constructor=Aprilia<br>Relative Consistency Indicator (in seconds)=%{x}<br>Relative Speed Indicator (in seconds)=%{y}<br>text=%{text}<extra></extra>",
         "legendgroup": "Aprilia",
         "marker": {
          "color": "green",
          "size": 8,
          "symbol": "circle"
         },
         "mode": "markers+text",
         "name": "Aprilia",
         "orientation": "v",
         "showlegend": true,
         "text": [
          "13",
          "4"
         ],
         "textposition": "top center",
         "type": "scatter",
         "x": [
          0.39,
          -0.04
         ],
         "xaxis": "x",
         "y": [
          0.79,
          -0.17
         ],
         "yaxis": "y"
        },
        {
         "hovertemplate": "constructor=Suzuki<br>Relative Consistency Indicator (in seconds)=%{x}<br>Relative Speed Indicator (in seconds)=%{y}<br>text=%{text}<extra></extra>",
         "legendgroup": "Suzuki",
         "marker": {
          "color": "aqua",
          "size": 8,
          "symbol": "circle"
         },
         "mode": "markers+text",
         "name": "Suzuki",
         "orientation": "v",
         "showlegend": true,
         "text": [
          "10",
          "9"
         ],
         "textposition": "top center",
         "type": "scatter",
         "x": [
          0.51,
          0.27
         ],
         "xaxis": "x",
         "y": [
          0.67,
          0.49
         ],
         "yaxis": "y"
        },
        {
         "hovertemplate": "constructor=Yamaha<br>Relative Consistency Indicator (in seconds)=%{x}<br>Relative Speed Indicator (in seconds)=%{y}<br>text=%{text}<extra></extra>",
         "legendgroup": "Yamaha",
         "marker": {
          "color": "blue",
          "size": 8,
          "symbol": "circle"
         },
         "mode": "markers+text",
         "name": "Yamaha",
         "orientation": "v",
         "showlegend": true,
         "text": [
          "7",
          "5",
          "2",
          ""
         ],
         "textposition": "top center",
         "type": "scatter",
         "x": [
          0.38,
          0.08,
          0.11,
          0.07
         ],
         "xaxis": "x",
         "y": [
          0.41,
          0.13,
          -0.36,
          -0.98
         ],
         "yaxis": "y"
        }
       ],
       "layout": {
        "legend": {
         "title": {
          "text": "Constructors:"
         },
         "tracegroupgap": 0
        },
        "shapes": [
         {
          "line": {
           "color": "black",
           "width": 2
          },
          "type": "line",
          "x0": -1,
          "x1": 1,
          "y0": 0,
          "y1": 0
         },
         {
          "line": {
           "color": "black",
           "width": 2
          },
          "type": "line",
          "x0": 0,
          "x1": 0,
          "y0": -1,
          "y1": 1
         }
        ],
        "template": {
         "data": {
          "bar": [
           {
            "error_x": {
             "color": "#2a3f5f"
            },
            "error_y": {
             "color": "#2a3f5f"
            },
            "marker": {
             "line": {
              "color": "white",
              "width": 0.5
             },
             "pattern": {
              "fillmode": "overlay",
              "size": 10,
              "solidity": 0.2
             }
            },
            "type": "bar"
           }
          ],
          "barpolar": [
           {
            "marker": {
             "line": {
              "color": "white",
              "width": 0.5
             },
             "pattern": {
              "fillmode": "overlay",
              "size": 10,
              "solidity": 0.2
             }
            },
            "type": "barpolar"
           }
          ],
          "carpet": [
           {
            "aaxis": {
             "endlinecolor": "#2a3f5f",
             "gridcolor": "#C8D4E3",
             "linecolor": "#C8D4E3",
             "minorgridcolor": "#C8D4E3",
             "startlinecolor": "#2a3f5f"
            },
            "baxis": {
             "endlinecolor": "#2a3f5f",
             "gridcolor": "#C8D4E3",
             "linecolor": "#C8D4E3",
             "minorgridcolor": "#C8D4E3",
             "startlinecolor": "#2a3f5f"
            },
            "type": "carpet"
           }
          ],
          "choropleth": [
           {
            "colorbar": {
             "outlinewidth": 0,
             "ticks": ""
            },
            "type": "choropleth"
           }
          ],
          "contour": [
           {
            "colorbar": {
             "outlinewidth": 0,
             "ticks": ""
            },
            "colorscale": [
             [
              0,
              "#0d0887"
             ],
             [
              0.1111111111111111,
              "#46039f"
             ],
             [
              0.2222222222222222,
              "#7201a8"
             ],
             [
              0.3333333333333333,
              "#9c179e"
             ],
             [
              0.4444444444444444,
              "#bd3786"
             ],
             [
              0.5555555555555556,
              "#d8576b"
             ],
             [
              0.6666666666666666,
              "#ed7953"
             ],
             [
              0.7777777777777778,
              "#fb9f3a"
             ],
             [
              0.8888888888888888,
              "#fdca26"
             ],
             [
              1,
              "#f0f921"
             ]
            ],
            "type": "contour"
           }
          ],
          "contourcarpet": [
           {
            "colorbar": {
             "outlinewidth": 0,
             "ticks": ""
            },
            "type": "contourcarpet"
           }
          ],
          "heatmap": [
           {
            "colorbar": {
             "outlinewidth": 0,
             "ticks": ""
            },
            "colorscale": [
             [
              0,
              "#0d0887"
             ],
             [
              0.1111111111111111,
              "#46039f"
             ],
             [
              0.2222222222222222,
              "#7201a8"
             ],
             [
              0.3333333333333333,
              "#9c179e"
             ],
             [
              0.4444444444444444,
              "#bd3786"
             ],
             [
              0.5555555555555556,
              "#d8576b"
             ],
             [
              0.6666666666666666,
              "#ed7953"
             ],
             [
              0.7777777777777778,
              "#fb9f3a"
             ],
             [
              0.8888888888888888,
              "#fdca26"
             ],
             [
              1,
              "#f0f921"
             ]
            ],
            "type": "heatmap"
           }
          ],
          "heatmapgl": [
           {
            "colorbar": {
             "outlinewidth": 0,
             "ticks": ""
            },
            "colorscale": [
             [
              0,
              "#0d0887"
             ],
             [
              0.1111111111111111,
              "#46039f"
             ],
             [
              0.2222222222222222,
              "#7201a8"
             ],
             [
              0.3333333333333333,
              "#9c179e"
             ],
             [
              0.4444444444444444,
              "#bd3786"
             ],
             [
              0.5555555555555556,
              "#d8576b"
             ],
             [
              0.6666666666666666,
              "#ed7953"
             ],
             [
              0.7777777777777778,
              "#fb9f3a"
             ],
             [
              0.8888888888888888,
              "#fdca26"
             ],
             [
              1,
              "#f0f921"
             ]
            ],
            "type": "heatmapgl"
           }
          ],
          "histogram": [
           {
            "marker": {
             "pattern": {
              "fillmode": "overlay",
              "size": 10,
              "solidity": 0.2
             }
            },
            "type": "histogram"
           }
          ],
          "histogram2d": [
           {
            "colorbar": {
             "outlinewidth": 0,
             "ticks": ""
            },
            "colorscale": [
             [
              0,
              "#0d0887"
             ],
             [
              0.1111111111111111,
              "#46039f"
             ],
             [
              0.2222222222222222,
              "#7201a8"
             ],
             [
              0.3333333333333333,
              "#9c179e"
             ],
             [
              0.4444444444444444,
              "#bd3786"
             ],
             [
              0.5555555555555556,
              "#d8576b"
             ],
             [
              0.6666666666666666,
              "#ed7953"
             ],
             [
              0.7777777777777778,
              "#fb9f3a"
             ],
             [
              0.8888888888888888,
              "#fdca26"
             ],
             [
              1,
              "#f0f921"
             ]
            ],
            "type": "histogram2d"
           }
          ],
          "histogram2dcontour": [
           {
            "colorbar": {
             "outlinewidth": 0,
             "ticks": ""
            },
            "colorscale": [
             [
              0,
              "#0d0887"
             ],
             [
              0.1111111111111111,
              "#46039f"
             ],
             [
              0.2222222222222222,
              "#7201a8"
             ],
             [
              0.3333333333333333,
              "#9c179e"
             ],
             [
              0.4444444444444444,
              "#bd3786"
             ],
             [
              0.5555555555555556,
              "#d8576b"
             ],
             [
              0.6666666666666666,
              "#ed7953"
             ],
             [
              0.7777777777777778,
              "#fb9f3a"
             ],
             [
              0.8888888888888888,
              "#fdca26"
             ],
             [
              1,
              "#f0f921"
             ]
            ],
            "type": "histogram2dcontour"
           }
          ],
          "mesh3d": [
           {
            "colorbar": {
             "outlinewidth": 0,
             "ticks": ""
            },
            "type": "mesh3d"
           }
          ],
          "parcoords": [
           {
            "line": {
             "colorbar": {
              "outlinewidth": 0,
              "ticks": ""
             }
            },
            "type": "parcoords"
           }
          ],
          "pie": [
           {
            "automargin": true,
            "type": "pie"
           }
          ],
          "scatter": [
           {
            "fillpattern": {
             "fillmode": "overlay",
             "size": 10,
             "solidity": 0.2
            },
            "type": "scatter"
           }
          ],
          "scatter3d": [
           {
            "line": {
             "colorbar": {
              "outlinewidth": 0,
              "ticks": ""
             }
            },
            "marker": {
             "colorbar": {
              "outlinewidth": 0,
              "ticks": ""
             }
            },
            "type": "scatter3d"
           }
          ],
          "scattercarpet": [
           {
            "marker": {
             "colorbar": {
              "outlinewidth": 0,
              "ticks": ""
             }
            },
            "type": "scattercarpet"
           }
          ],
          "scattergeo": [
           {
            "marker": {
             "colorbar": {
              "outlinewidth": 0,
              "ticks": ""
             }
            },
            "type": "scattergeo"
           }
          ],
          "scattergl": [
           {
            "marker": {
             "colorbar": {
              "outlinewidth": 0,
              "ticks": ""
             }
            },
            "type": "scattergl"
           }
          ],
          "scattermapbox": [
           {
            "marker": {
             "colorbar": {
              "outlinewidth": 0,
              "ticks": ""
             }
            },
            "type": "scattermapbox"
           }
          ],
          "scatterpolar": [
           {
            "marker": {
             "colorbar": {
              "outlinewidth": 0,
              "ticks": ""
             }
            },
            "type": "scatterpolar"
           }
          ],
          "scatterpolargl": [
           {
            "marker": {
             "colorbar": {
              "outlinewidth": 0,
              "ticks": ""
             }
            },
            "type": "scatterpolargl"
           }
          ],
          "scatterternary": [
           {
            "marker": {
             "colorbar": {
              "outlinewidth": 0,
              "ticks": ""
             }
            },
            "type": "scatterternary"
           }
          ],
          "surface": [
           {
            "colorbar": {
             "outlinewidth": 0,
             "ticks": ""
            },
            "colorscale": [
             [
              0,
              "#0d0887"
             ],
             [
              0.1111111111111111,
              "#46039f"
             ],
             [
              0.2222222222222222,
              "#7201a8"
             ],
             [
              0.3333333333333333,
              "#9c179e"
             ],
             [
              0.4444444444444444,
              "#bd3786"
             ],
             [
              0.5555555555555556,
              "#d8576b"
             ],
             [
              0.6666666666666666,
              "#ed7953"
             ],
             [
              0.7777777777777778,
              "#fb9f3a"
             ],
             [
              0.8888888888888888,
              "#fdca26"
             ],
             [
              1,
              "#f0f921"
             ]
            ],
            "type": "surface"
           }
          ],
          "table": [
           {
            "cells": {
             "fill": {
              "color": "#EBF0F8"
             },
             "line": {
              "color": "white"
             }
            },
            "header": {
             "fill": {
              "color": "#C8D4E3"
             },
             "line": {
              "color": "white"
             }
            },
            "type": "table"
           }
          ]
         },
         "layout": {
          "annotationdefaults": {
           "arrowcolor": "#2a3f5f",
           "arrowhead": 0,
           "arrowwidth": 1
          },
          "autotypenumbers": "strict",
          "coloraxis": {
           "colorbar": {
            "outlinewidth": 0,
            "ticks": ""
           }
          },
          "colorscale": {
           "diverging": [
            [
             0,
             "#8e0152"
            ],
            [
             0.1,
             "#c51b7d"
            ],
            [
             0.2,
             "#de77ae"
            ],
            [
             0.3,
             "#f1b6da"
            ],
            [
             0.4,
             "#fde0ef"
            ],
            [
             0.5,
             "#f7f7f7"
            ],
            [
             0.6,
             "#e6f5d0"
            ],
            [
             0.7,
             "#b8e186"
            ],
            [
             0.8,
             "#7fbc41"
            ],
            [
             0.9,
             "#4d9221"
            ],
            [
             1,
             "#276419"
            ]
           ],
           "sequential": [
            [
             0,
             "#0d0887"
            ],
            [
             0.1111111111111111,
             "#46039f"
            ],
            [
             0.2222222222222222,
             "#7201a8"
            ],
            [
             0.3333333333333333,
             "#9c179e"
            ],
            [
             0.4444444444444444,
             "#bd3786"
            ],
            [
             0.5555555555555556,
             "#d8576b"
            ],
            [
             0.6666666666666666,
             "#ed7953"
            ],
            [
             0.7777777777777778,
             "#fb9f3a"
            ],
            [
             0.8888888888888888,
             "#fdca26"
            ],
            [
             1,
             "#f0f921"
            ]
           ],
           "sequentialminus": [
            [
             0,
             "#0d0887"
            ],
            [
             0.1111111111111111,
             "#46039f"
            ],
            [
             0.2222222222222222,
             "#7201a8"
            ],
            [
             0.3333333333333333,
             "#9c179e"
            ],
            [
             0.4444444444444444,
             "#bd3786"
            ],
            [
             0.5555555555555556,
             "#d8576b"
            ],
            [
             0.6666666666666666,
             "#ed7953"
            ],
            [
             0.7777777777777778,
             "#fb9f3a"
            ],
            [
             0.8888888888888888,
             "#fdca26"
            ],
            [
             1,
             "#f0f921"
            ]
           ]
          },
          "colorway": [
           "#636efa",
           "#EF553B",
           "#00cc96",
           "#ab63fa",
           "#FFA15A",
           "#19d3f3",
           "#FF6692",
           "#B6E880",
           "#FF97FF",
           "#FECB52"
          ],
          "font": {
           "color": "#2a3f5f"
          },
          "geo": {
           "bgcolor": "white",
           "lakecolor": "white",
           "landcolor": "white",
           "showlakes": true,
           "showland": true,
           "subunitcolor": "#C8D4E3"
          },
          "hoverlabel": {
           "align": "left"
          },
          "hovermode": "closest",
          "mapbox": {
           "style": "light"
          },
          "paper_bgcolor": "white",
          "plot_bgcolor": "white",
          "polar": {
           "angularaxis": {
            "gridcolor": "#EBF0F8",
            "linecolor": "#EBF0F8",
            "ticks": ""
           },
           "bgcolor": "white",
           "radialaxis": {
            "gridcolor": "#EBF0F8",
            "linecolor": "#EBF0F8",
            "ticks": ""
           }
          },
          "scene": {
           "xaxis": {
            "backgroundcolor": "white",
            "gridcolor": "#DFE8F3",
            "gridwidth": 2,
            "linecolor": "#EBF0F8",
            "showbackground": true,
            "ticks": "",
            "zerolinecolor": "#EBF0F8"
           },
           "yaxis": {
            "backgroundcolor": "white",
            "gridcolor": "#DFE8F3",
            "gridwidth": 2,
            "linecolor": "#EBF0F8",
            "showbackground": true,
            "ticks": "",
            "zerolinecolor": "#EBF0F8"
           },
           "zaxis": {
            "backgroundcolor": "white",
            "gridcolor": "#DFE8F3",
            "gridwidth": 2,
            "linecolor": "#EBF0F8",
            "showbackground": true,
            "ticks": "",
            "zerolinecolor": "#EBF0F8"
           }
          },
          "shapedefaults": {
           "line": {
            "color": "#2a3f5f"
           }
          },
          "ternary": {
           "aaxis": {
            "gridcolor": "#DFE8F3",
            "linecolor": "#A2B1C6",
            "ticks": ""
           },
           "baxis": {
            "gridcolor": "#DFE8F3",
            "linecolor": "#A2B1C6",
            "ticks": ""
           },
           "bgcolor": "white",
           "caxis": {
            "gridcolor": "#DFE8F3",
            "linecolor": "#A2B1C6",
            "ticks": ""
           }
          },
          "title": {
           "x": 0.05
          },
          "xaxis": {
           "automargin": true,
           "gridcolor": "#EBF0F8",
           "linecolor": "#EBF0F8",
           "ticks": "",
           "title": {
            "standoff": 15
           },
           "zerolinecolor": "#EBF0F8",
           "zerolinewidth": 2
          },
          "yaxis": {
           "automargin": true,
           "gridcolor": "#EBF0F8",
           "linecolor": "#EBF0F8",
           "ticks": "",
           "title": {
            "standoff": 15
           },
           "zerolinecolor": "#EBF0F8",
           "zerolinewidth": 2
          }
         }
        },
        "title": {
         "text": "<b>🇶🇦 Qatar 2022</b><br>Performance Matrix - Riders"
        },
        "xaxis": {
         "anchor": "y",
         "domain": [
          0,
          1
         ],
         "title": {
          "text": "Relative Consistency Indicator (in seconds)"
         }
        },
        "yaxis": {
         "anchor": "x",
         "domain": [
          0,
          1
         ],
         "title": {
          "text": "Relative Speed Indicator (in seconds)"
         }
        }
       }
      }
     },
     "metadata": {},
     "output_type": "display_data"
    }
   ],
   "source": [
    "fig = px.scatter(\n",
    "    performanceQAT, \n",
    "    x='pace_consistency_index', \n",
    "    y='pace_speed_index',\n",
    "    color='constructor',\n",
    "    color_discrete_sequence=['red', 'darkorange', 'orange', 'green', 'aqua', 'blue'],\n",
    "    text=performanceQAT['points'].astype(str).apply(lambda x: '' if x == '0' else x),\n",
    "    # text='position',\n",
    "    labels={'pace_speed_index': 'Relative Speed Indicator (in seconds)', 'pace_consistency_index': 'Relative Consistency Indicator (in seconds)'},\n",
    "    title=\"<b>🇶🇦 Qatar 2022</b><br>Performance Matrix - Riders\",\n",
    "    # trendline='ols'\n",
    "    )\n",
    "fig.update_traces(\n",
    "    textposition='top center',\n",
    "    marker=dict(size=8))\n",
    "fig.add_shape(\n",
    "    type='line',\n",
    "    x0=-1,\n",
    "    y0=0,\n",
    "    x1=1,\n",
    "    y1=0,\n",
    "    line=dict(\n",
    "        color='black',\n",
    "        width=2\n",
    "    )\n",
    ")\n",
    "\n",
    "fig.add_shape(\n",
    "    type='line',\n",
    "    x0=0,\n",
    "    y0=-1,\n",
    "    x1=0,\n",
    "    y1=1,\n",
    "    line=dict(\n",
    "        color='black',\n",
    "        width=2\n",
    "    )\n",
    ")\n",
    "fig.update_layout(template=template, legend_title_text='Constructors:')\n",
    "fig.show()"
   ]
  },
  {
   "attachments": {},
   "cell_type": "markdown",
   "metadata": {},
   "source": [
    "In the case of Qatar, we can see how this graph helps us clearly visualize the struggle of the Ducati teams in having a consistent pace (with the exception of the winner, Bastianini). The Suzuki team had a good overall performance, both in terms of speed and consistency."
   ]
  },
  {
   "cell_type": "code",
   "execution_count": 16,
   "metadata": {},
   "outputs": [
    {
     "data": {
      "application/vnd.plotly.v1+json": {
       "config": {
        "plotlyServerURL": "https://plot.ly"
       },
       "data": [
        {
         "hovertemplate": "constructor=Ducati<br>Relative Consistency Indicator (in seconds)=%{x}<br>Relative Speed Indicator (in seconds)=%{y}<br>text=%{text}<extra></extra>",
         "legendgroup": "Ducati",
         "marker": {
          "color": "red",
          "size": 8,
          "symbol": "circle"
         },
         "mode": "markers+text",
         "name": "Ducati",
         "orientation": "v",
         "showlegend": true,
         "text": [
          "25",
          "13",
          "11",
          "10",
          "5",
          "3",
          "1",
          "",
          ""
         ],
         "textposition": "top center",
         "type": "scatter",
         "x": [
          0.489078776629184,
          0.5945073216663597,
          0.6829379807049125,
          0.7058334291694393,
          0.7238405655170217,
          0.38186053045965784,
          0.18309177504998653,
          0.2847736996648884,
          -0.1216427445130455
         ],
         "xaxis": "x",
         "y": [
          0.8506040197260916,
          0.7379953240739212,
          0.7172561936391446,
          0.6821257588565146,
          0.28903880233478674,
          0.10103880233478435,
          0.08160401972608611,
          -0.07570032809999816,
          0.35490144843450716
         ],
         "yaxis": "y"
        },
        {
         "hovertemplate": "constructor=Yamaha<br>Relative Consistency Indicator (in seconds)=%{x}<br>Relative Speed Indicator (in seconds)=%{y}<br>text=%{text}<extra></extra>",
         "legendgroup": "Yamaha",
         "marker": {
          "color": "blue",
          "size": 8,
          "symbol": "circle"
         },
         "mode": "markers+text",
         "name": "Yamaha",
         "orientation": "v",
         "showlegend": true,
         "text": [
          "20",
          "",
          "",
          ""
         ],
         "textposition": "top center",
         "type": "scatter",
         "x": [
          0.5886089501625653,
          0.32570755999637324,
          0.08195895126727049,
          0.3308467662478136
         ],
         "xaxis": "x",
         "y": [
          0.822995324073915,
          -0.030482936795650062,
          -0.03183076288260622,
          -0.4977003280999952
         ],
         "yaxis": "y"
        },
        {
         "hovertemplate": "constructor=Aprilia<br>Relative Consistency Indicator (in seconds)=%{x}<br>Relative Speed Indicator (in seconds)=%{y}<br>text=%{text}<extra></extra>",
         "legendgroup": "Aprilia",
         "marker": {
          "color": "green",
          "size": 8,
          "symbol": "circle"
         },
         "mode": "markers+text",
         "name": "Aprilia",
         "orientation": "v",
         "showlegend": true,
         "text": [
          "16",
          "4"
         ],
         "textposition": "top center",
         "type": "scatter",
         "x": [
          0.646617807501618,
          0.0848612427150166
         ],
         "xaxis": "x",
         "y": [
          0.7643866284217467,
          0.28899532407390893
         ],
         "yaxis": "y"
        },
        {
         "hovertemplate": "constructor=KTM<br>Relative Consistency Indicator (in seconds)=%{x}<br>Relative Speed Indicator (in seconds)=%{y}<br>text=%{text}<extra></extra>",
         "legendgroup": "KTM",
         "marker": {
          "color": "darkorange",
          "size": 8,
          "symbol": "circle"
         },
         "mode": "markers+text",
         "name": "KTM",
         "orientation": "v",
         "showlegend": true,
         "text": [
          "9",
          "7",
          "",
          ""
         ],
         "textposition": "top center",
         "type": "scatter",
         "x": [
          0.5812858013039173,
          0.5100984896693674,
          0.3577861466383778,
          0.15573785743202695
         ],
         "xaxis": "x",
         "y": [
          0.6737779327695819,
          0.36121271537825805,
          -0.47756989331738,
          -1.006917719404342
         ],
         "yaxis": "y"
        },
        {
         "hovertemplate": "constructor=Honda<br>Relative Consistency Indicator (in seconds)=%{x}<br>Relative Speed Indicator (in seconds)=%{y}<br>text=%{text}<extra></extra>",
         "legendgroup": "Honda",
         "marker": {
          "color": "orange",
          "size": 8,
          "symbol": "circle"
         },
         "mode": "markers+text",
         "name": "Honda",
         "orientation": "v",
         "showlegend": true,
         "text": [
          "8",
          "6",
          "2",
          ""
         ],
         "textposition": "top center",
         "type": "scatter",
         "x": [
          0.5832814098546091,
          0.5642393022499175,
          0.512437900466278,
          -0.317991955008888
         ],
         "xaxis": "x",
         "y": [
          0.37477793276956106,
          0.33756054146522274,
          0.08677793276957857,
          -0.2792479688204759
         ],
         "yaxis": "y"
        },
        {
         "hovertemplate": "constructor=Suzuki<br>Relative Consistency Indicator (in seconds)=%{x}<br>Relative Speed Indicator (in seconds)=%{y}<br>text=%{text}<extra></extra>",
         "legendgroup": "Suzuki",
         "marker": {
          "color": "aqua",
          "size": 8,
          "symbol": "circle"
         },
         "mode": "markers+text",
         "name": "Suzuki",
         "orientation": "v",
         "showlegend": true,
         "text": [
          "",
          ""
         ],
         "textposition": "top center",
         "type": "scatter",
         "x": [
          -0.41680968717442496,
          -0.3738721229738598
         ],
         "xaxis": "x",
         "y": [
          -0.18809767606974928,
          -0.05134053321260694
         ],
         "yaxis": "y"
        }
       ],
       "layout": {
        "legend": {
         "title": {
          "text": "Constructors:"
         },
         "tracegroupgap": 0
        },
        "shapes": [
         {
          "line": {
           "color": "black",
           "width": 2
          },
          "type": "line",
          "x0": -1,
          "x1": 1,
          "y0": 0,
          "y1": 0
         },
         {
          "line": {
           "color": "black",
           "width": 2
          },
          "type": "line",
          "x0": 0,
          "x1": 0,
          "y0": -1,
          "y1": 1
         }
        ],
        "template": {
         "data": {
          "bar": [
           {
            "error_x": {
             "color": "#2a3f5f"
            },
            "error_y": {
             "color": "#2a3f5f"
            },
            "marker": {
             "line": {
              "color": "white",
              "width": 0.5
             },
             "pattern": {
              "fillmode": "overlay",
              "size": 10,
              "solidity": 0.2
             }
            },
            "type": "bar"
           }
          ],
          "barpolar": [
           {
            "marker": {
             "line": {
              "color": "white",
              "width": 0.5
             },
             "pattern": {
              "fillmode": "overlay",
              "size": 10,
              "solidity": 0.2
             }
            },
            "type": "barpolar"
           }
          ],
          "carpet": [
           {
            "aaxis": {
             "endlinecolor": "#2a3f5f",
             "gridcolor": "#C8D4E3",
             "linecolor": "#C8D4E3",
             "minorgridcolor": "#C8D4E3",
             "startlinecolor": "#2a3f5f"
            },
            "baxis": {
             "endlinecolor": "#2a3f5f",
             "gridcolor": "#C8D4E3",
             "linecolor": "#C8D4E3",
             "minorgridcolor": "#C8D4E3",
             "startlinecolor": "#2a3f5f"
            },
            "type": "carpet"
           }
          ],
          "choropleth": [
           {
            "colorbar": {
             "outlinewidth": 0,
             "ticks": ""
            },
            "type": "choropleth"
           }
          ],
          "contour": [
           {
            "colorbar": {
             "outlinewidth": 0,
             "ticks": ""
            },
            "colorscale": [
             [
              0,
              "#0d0887"
             ],
             [
              0.1111111111111111,
              "#46039f"
             ],
             [
              0.2222222222222222,
              "#7201a8"
             ],
             [
              0.3333333333333333,
              "#9c179e"
             ],
             [
              0.4444444444444444,
              "#bd3786"
             ],
             [
              0.5555555555555556,
              "#d8576b"
             ],
             [
              0.6666666666666666,
              "#ed7953"
             ],
             [
              0.7777777777777778,
              "#fb9f3a"
             ],
             [
              0.8888888888888888,
              "#fdca26"
             ],
             [
              1,
              "#f0f921"
             ]
            ],
            "type": "contour"
           }
          ],
          "contourcarpet": [
           {
            "colorbar": {
             "outlinewidth": 0,
             "ticks": ""
            },
            "type": "contourcarpet"
           }
          ],
          "heatmap": [
           {
            "colorbar": {
             "outlinewidth": 0,
             "ticks": ""
            },
            "colorscale": [
             [
              0,
              "#0d0887"
             ],
             [
              0.1111111111111111,
              "#46039f"
             ],
             [
              0.2222222222222222,
              "#7201a8"
             ],
             [
              0.3333333333333333,
              "#9c179e"
             ],
             [
              0.4444444444444444,
              "#bd3786"
             ],
             [
              0.5555555555555556,
              "#d8576b"
             ],
             [
              0.6666666666666666,
              "#ed7953"
             ],
             [
              0.7777777777777778,
              "#fb9f3a"
             ],
             [
              0.8888888888888888,
              "#fdca26"
             ],
             [
              1,
              "#f0f921"
             ]
            ],
            "type": "heatmap"
           }
          ],
          "heatmapgl": [
           {
            "colorbar": {
             "outlinewidth": 0,
             "ticks": ""
            },
            "colorscale": [
             [
              0,
              "#0d0887"
             ],
             [
              0.1111111111111111,
              "#46039f"
             ],
             [
              0.2222222222222222,
              "#7201a8"
             ],
             [
              0.3333333333333333,
              "#9c179e"
             ],
             [
              0.4444444444444444,
              "#bd3786"
             ],
             [
              0.5555555555555556,
              "#d8576b"
             ],
             [
              0.6666666666666666,
              "#ed7953"
             ],
             [
              0.7777777777777778,
              "#fb9f3a"
             ],
             [
              0.8888888888888888,
              "#fdca26"
             ],
             [
              1,
              "#f0f921"
             ]
            ],
            "type": "heatmapgl"
           }
          ],
          "histogram": [
           {
            "marker": {
             "pattern": {
              "fillmode": "overlay",
              "size": 10,
              "solidity": 0.2
             }
            },
            "type": "histogram"
           }
          ],
          "histogram2d": [
           {
            "colorbar": {
             "outlinewidth": 0,
             "ticks": ""
            },
            "colorscale": [
             [
              0,
              "#0d0887"
             ],
             [
              0.1111111111111111,
              "#46039f"
             ],
             [
              0.2222222222222222,
              "#7201a8"
             ],
             [
              0.3333333333333333,
              "#9c179e"
             ],
             [
              0.4444444444444444,
              "#bd3786"
             ],
             [
              0.5555555555555556,
              "#d8576b"
             ],
             [
              0.6666666666666666,
              "#ed7953"
             ],
             [
              0.7777777777777778,
              "#fb9f3a"
             ],
             [
              0.8888888888888888,
              "#fdca26"
             ],
             [
              1,
              "#f0f921"
             ]
            ],
            "type": "histogram2d"
           }
          ],
          "histogram2dcontour": [
           {
            "colorbar": {
             "outlinewidth": 0,
             "ticks": ""
            },
            "colorscale": [
             [
              0,
              "#0d0887"
             ],
             [
              0.1111111111111111,
              "#46039f"
             ],
             [
              0.2222222222222222,
              "#7201a8"
             ],
             [
              0.3333333333333333,
              "#9c179e"
             ],
             [
              0.4444444444444444,
              "#bd3786"
             ],
             [
              0.5555555555555556,
              "#d8576b"
             ],
             [
              0.6666666666666666,
              "#ed7953"
             ],
             [
              0.7777777777777778,
              "#fb9f3a"
             ],
             [
              0.8888888888888888,
              "#fdca26"
             ],
             [
              1,
              "#f0f921"
             ]
            ],
            "type": "histogram2dcontour"
           }
          ],
          "mesh3d": [
           {
            "colorbar": {
             "outlinewidth": 0,
             "ticks": ""
            },
            "type": "mesh3d"
           }
          ],
          "parcoords": [
           {
            "line": {
             "colorbar": {
              "outlinewidth": 0,
              "ticks": ""
             }
            },
            "type": "parcoords"
           }
          ],
          "pie": [
           {
            "automargin": true,
            "type": "pie"
           }
          ],
          "scatter": [
           {
            "fillpattern": {
             "fillmode": "overlay",
             "size": 10,
             "solidity": 0.2
            },
            "type": "scatter"
           }
          ],
          "scatter3d": [
           {
            "line": {
             "colorbar": {
              "outlinewidth": 0,
              "ticks": ""
             }
            },
            "marker": {
             "colorbar": {
              "outlinewidth": 0,
              "ticks": ""
             }
            },
            "type": "scatter3d"
           }
          ],
          "scattercarpet": [
           {
            "marker": {
             "colorbar": {
              "outlinewidth": 0,
              "ticks": ""
             }
            },
            "type": "scattercarpet"
           }
          ],
          "scattergeo": [
           {
            "marker": {
             "colorbar": {
              "outlinewidth": 0,
              "ticks": ""
             }
            },
            "type": "scattergeo"
           }
          ],
          "scattergl": [
           {
            "marker": {
             "colorbar": {
              "outlinewidth": 0,
              "ticks": ""
             }
            },
            "type": "scattergl"
           }
          ],
          "scattermapbox": [
           {
            "marker": {
             "colorbar": {
              "outlinewidth": 0,
              "ticks": ""
             }
            },
            "type": "scattermapbox"
           }
          ],
          "scatterpolar": [
           {
            "marker": {
             "colorbar": {
              "outlinewidth": 0,
              "ticks": ""
             }
            },
            "type": "scatterpolar"
           }
          ],
          "scatterpolargl": [
           {
            "marker": {
             "colorbar": {
              "outlinewidth": 0,
              "ticks": ""
             }
            },
            "type": "scatterpolargl"
           }
          ],
          "scatterternary": [
           {
            "marker": {
             "colorbar": {
              "outlinewidth": 0,
              "ticks": ""
             }
            },
            "type": "scatterternary"
           }
          ],
          "surface": [
           {
            "colorbar": {
             "outlinewidth": 0,
             "ticks": ""
            },
            "colorscale": [
             [
              0,
              "#0d0887"
             ],
             [
              0.1111111111111111,
              "#46039f"
             ],
             [
              0.2222222222222222,
              "#7201a8"
             ],
             [
              0.3333333333333333,
              "#9c179e"
             ],
             [
              0.4444444444444444,
              "#bd3786"
             ],
             [
              0.5555555555555556,
              "#d8576b"
             ],
             [
              0.6666666666666666,
              "#ed7953"
             ],
             [
              0.7777777777777778,
              "#fb9f3a"
             ],
             [
              0.8888888888888888,
              "#fdca26"
             ],
             [
              1,
              "#f0f921"
             ]
            ],
            "type": "surface"
           }
          ],
          "table": [
           {
            "cells": {
             "fill": {
              "color": "#EBF0F8"
             },
             "line": {
              "color": "white"
             }
            },
            "header": {
             "fill": {
              "color": "#C8D4E3"
             },
             "line": {
              "color": "white"
             }
            },
            "type": "table"
           }
          ]
         },
         "layout": {
          "annotationdefaults": {
           "arrowcolor": "#2a3f5f",
           "arrowhead": 0,
           "arrowwidth": 1
          },
          "autotypenumbers": "strict",
          "coloraxis": {
           "colorbar": {
            "outlinewidth": 0,
            "ticks": ""
           }
          },
          "colorscale": {
           "diverging": [
            [
             0,
             "#8e0152"
            ],
            [
             0.1,
             "#c51b7d"
            ],
            [
             0.2,
             "#de77ae"
            ],
            [
             0.3,
             "#f1b6da"
            ],
            [
             0.4,
             "#fde0ef"
            ],
            [
             0.5,
             "#f7f7f7"
            ],
            [
             0.6,
             "#e6f5d0"
            ],
            [
             0.7,
             "#b8e186"
            ],
            [
             0.8,
             "#7fbc41"
            ],
            [
             0.9,
             "#4d9221"
            ],
            [
             1,
             "#276419"
            ]
           ],
           "sequential": [
            [
             0,
             "#0d0887"
            ],
            [
             0.1111111111111111,
             "#46039f"
            ],
            [
             0.2222222222222222,
             "#7201a8"
            ],
            [
             0.3333333333333333,
             "#9c179e"
            ],
            [
             0.4444444444444444,
             "#bd3786"
            ],
            [
             0.5555555555555556,
             "#d8576b"
            ],
            [
             0.6666666666666666,
             "#ed7953"
            ],
            [
             0.7777777777777778,
             "#fb9f3a"
            ],
            [
             0.8888888888888888,
             "#fdca26"
            ],
            [
             1,
             "#f0f921"
            ]
           ],
           "sequentialminus": [
            [
             0,
             "#0d0887"
            ],
            [
             0.1111111111111111,
             "#46039f"
            ],
            [
             0.2222222222222222,
             "#7201a8"
            ],
            [
             0.3333333333333333,
             "#9c179e"
            ],
            [
             0.4444444444444444,
             "#bd3786"
            ],
            [
             0.5555555555555556,
             "#d8576b"
            ],
            [
             0.6666666666666666,
             "#ed7953"
            ],
            [
             0.7777777777777778,
             "#fb9f3a"
            ],
            [
             0.8888888888888888,
             "#fdca26"
            ],
            [
             1,
             "#f0f921"
            ]
           ]
          },
          "colorway": [
           "#636efa",
           "#EF553B",
           "#00cc96",
           "#ab63fa",
           "#FFA15A",
           "#19d3f3",
           "#FF6692",
           "#B6E880",
           "#FF97FF",
           "#FECB52"
          ],
          "font": {
           "color": "#2a3f5f"
          },
          "geo": {
           "bgcolor": "white",
           "lakecolor": "white",
           "landcolor": "white",
           "showlakes": true,
           "showland": true,
           "subunitcolor": "#C8D4E3"
          },
          "hoverlabel": {
           "align": "left"
          },
          "hovermode": "closest",
          "mapbox": {
           "style": "light"
          },
          "paper_bgcolor": "white",
          "plot_bgcolor": "white",
          "polar": {
           "angularaxis": {
            "gridcolor": "#EBF0F8",
            "linecolor": "#EBF0F8",
            "ticks": ""
           },
           "bgcolor": "white",
           "radialaxis": {
            "gridcolor": "#EBF0F8",
            "linecolor": "#EBF0F8",
            "ticks": ""
           }
          },
          "scene": {
           "xaxis": {
            "backgroundcolor": "white",
            "gridcolor": "#DFE8F3",
            "gridwidth": 2,
            "linecolor": "#EBF0F8",
            "showbackground": true,
            "ticks": "",
            "zerolinecolor": "#EBF0F8"
           },
           "yaxis": {
            "backgroundcolor": "white",
            "gridcolor": "#DFE8F3",
            "gridwidth": 2,
            "linecolor": "#EBF0F8",
            "showbackground": true,
            "ticks": "",
            "zerolinecolor": "#EBF0F8"
           },
           "zaxis": {
            "backgroundcolor": "white",
            "gridcolor": "#DFE8F3",
            "gridwidth": 2,
            "linecolor": "#EBF0F8",
            "showbackground": true,
            "ticks": "",
            "zerolinecolor": "#EBF0F8"
           }
          },
          "shapedefaults": {
           "line": {
            "color": "#2a3f5f"
           }
          },
          "ternary": {
           "aaxis": {
            "gridcolor": "#DFE8F3",
            "linecolor": "#A2B1C6",
            "ticks": ""
           },
           "baxis": {
            "gridcolor": "#DFE8F3",
            "linecolor": "#A2B1C6",
            "ticks": ""
           },
           "bgcolor": "white",
           "caxis": {
            "gridcolor": "#DFE8F3",
            "linecolor": "#A2B1C6",
            "ticks": ""
           }
          },
          "title": {
           "x": 0.05
          },
          "xaxis": {
           "automargin": true,
           "gridcolor": "#EBF0F8",
           "linecolor": "#EBF0F8",
           "ticks": "",
           "title": {
            "standoff": 15
           },
           "zerolinecolor": "#EBF0F8",
           "zerolinewidth": 2
          },
          "yaxis": {
           "automargin": true,
           "gridcolor": "#EBF0F8",
           "linecolor": "#EBF0F8",
           "ticks": "",
           "title": {
            "standoff": 15
           },
           "zerolinecolor": "#EBF0F8",
           "zerolinewidth": 2
          }
         }
        },
        "title": {
         "text": "<b>🇮🇹 Mugello 2022</b><br>Performance Matrix - Riders"
        },
        "xaxis": {
         "anchor": "y",
         "domain": [
          0,
          1
         ],
         "title": {
          "text": "Relative Consistency Indicator (in seconds)"
         }
        },
        "yaxis": {
         "anchor": "x",
         "domain": [
          0,
          1
         ],
         "title": {
          "text": "Relative Speed Indicator (in seconds)"
         }
        }
       }
      }
     },
     "metadata": {},
     "output_type": "display_data"
    }
   ],
   "source": [
    "df = performanceITA[performanceITA['position'] != 22]\n",
    "fig = px.scatter(\n",
    "    df, \n",
    "    x='pace_consistency_index', \n",
    "    y='pace_speed_index',\n",
    "    color='constructor',\n",
    "    color_discrete_sequence=['red', 'blue', 'green', 'darkorange', 'orange', 'aqua'],\n",
    "    text=df['points'].astype(str).apply(lambda x: '' if x == '0' else x),\n",
    "    labels={'pace_speed_index': 'Relative Speed Indicator (in seconds)', 'pace_consistency_index': 'Relative Consistency Indicator (in seconds)'},\n",
    "    title=\"<b>🇮🇹 Mugello 2022</b><br>Performance Matrix - Riders\",\n",
    "    # trendline='ols'\n",
    "    )\n",
    "fig.update_traces(\n",
    "    textposition='top center',\n",
    "    marker=dict(size=8))\n",
    "fig.update_layout(template=\"plotly_white\",)\n",
    "fig.add_shape(\n",
    "    type='line',\n",
    "    x0=-1,\n",
    "    y0=0,\n",
    "    x1=1,\n",
    "    y1=0,\n",
    "    line=dict(\n",
    "        color='black',\n",
    "        width=2\n",
    "    )\n",
    ")\n",
    "\n",
    "fig.add_shape(\n",
    "    type='line',\n",
    "    x0=0,\n",
    "    y0=-1,\n",
    "    x1=0,\n",
    "    y1=1,\n",
    "    line=dict(\n",
    "        color='black',\n",
    "        width=2\n",
    "    )\n",
    ")\n",
    "fig.update_layout(template=template, legend_title_text='Constructors:')\n",
    "fig.show()"
   ]
  },
  {
   "attachments": {},
   "cell_type": "markdown",
   "metadata": {},
   "source": [
    "At Mugello, it's interesting to note how the riders who scored points are all grouped in the upper-right quadrant, which means their values for speed and consistency were above average (confirming the demonstrated relationship between the two variables). Only Quartararo (who finished second) demonstrated both consistency and speed among the Yamaha riders, while the other three Yamahas suffered from a noticeable lack of speed that prevented them from scoring points. The Ducati team had a good overall performance, with most of their riders largely confirming their high performance usually demonstrated at their home circuit.\n",
    "\n",
    "## A performance-based ranking\n",
    "\n",
    "The two variables that quantify the \"pace\" can be combined to create an index that summarizes a rider's performance in a single value. We will call this the \"performance indicator\", which is an aggregation of the speed and consistency indicators of the pace.\n",
    "\n",
    "The following table shows the results of the Qatar race along with these indicators. Specifically, from left to right, it includes the starting position, finishing position, difference in positions at the finish, points earned, speed indicator, consistency indicator, and the aggregated performance indicator. This results table, ordered by the latter variable, presents a \"revisited\" ranking based on the performance demonstrated by the riders regardless of the final result and events of the race."
   ]
  },
  {
   "cell_type": "code",
   "execution_count": 17,
   "metadata": {},
   "outputs": [
    {
     "data": {
      "text/html": [
       "<div>\n",
       "<style scoped>\n",
       "    .dataframe tbody tr th:only-of-type {\n",
       "        vertical-align: middle;\n",
       "    }\n",
       "\n",
       "    .dataframe tbody tr th {\n",
       "        vertical-align: top;\n",
       "    }\n",
       "\n",
       "    .dataframe thead th {\n",
       "        text-align: right;\n",
       "    }\n",
       "</style>\n",
       "<table border=\"1\" class=\"dataframe\">\n",
       "  <thead>\n",
       "    <tr style=\"text-align: right;\">\n",
       "      <th></th>\n",
       "      <th>rider</th>\n",
       "      <th>grid</th>\n",
       "      <th>position</th>\n",
       "      <th>pos_delta</th>\n",
       "      <th>points</th>\n",
       "      <th>pace_speed_index</th>\n",
       "      <th>pace_consistency_index</th>\n",
       "      <th>performance_index</th>\n",
       "    </tr>\n",
       "  </thead>\n",
       "  <tbody>\n",
       "    <tr>\n",
       "      <th>1</th>\n",
       "      <td>Brad Binder</td>\n",
       "      <td>7</td>\n",
       "      <td>2.0</td>\n",
       "      <td>5.0</td>\n",
       "      <td>20</td>\n",
       "      <td>0.87</td>\n",
       "      <td>0.51</td>\n",
       "      <td>0.69</td>\n",
       "    </tr>\n",
       "    <tr>\n",
       "      <th>2</th>\n",
       "      <td>Pol Espargaro</td>\n",
       "      <td>6</td>\n",
       "      <td>3.0</td>\n",
       "      <td>3.0</td>\n",
       "      <td>16</td>\n",
       "      <td>0.83</td>\n",
       "      <td>0.52</td>\n",
       "      <td>0.67</td>\n",
       "    </tr>\n",
       "    <tr>\n",
       "      <th>3</th>\n",
       "      <td>Enea Bastianini</td>\n",
       "      <td>2</td>\n",
       "      <td>1.0</td>\n",
       "      <td>1.0</td>\n",
       "      <td>25</td>\n",
       "      <td>0.89</td>\n",
       "      <td>0.39</td>\n",
       "      <td>0.64</td>\n",
       "    </tr>\n",
       "    <tr>\n",
       "      <th>4</th>\n",
       "      <td>Marc Marquez</td>\n",
       "      <td>3</td>\n",
       "      <td>5.0</td>\n",
       "      <td>-2.0</td>\n",
       "      <td>11</td>\n",
       "      <td>0.70</td>\n",
       "      <td>0.59</td>\n",
       "      <td>0.64</td>\n",
       "    </tr>\n",
       "    <tr>\n",
       "      <th>5</th>\n",
       "      <td>Aleix Espargaro</td>\n",
       "      <td>5</td>\n",
       "      <td>4.0</td>\n",
       "      <td>1.0</td>\n",
       "      <td>13</td>\n",
       "      <td>0.79</td>\n",
       "      <td>0.39</td>\n",
       "      <td>0.59</td>\n",
       "    </tr>\n",
       "    <tr>\n",
       "      <th>6</th>\n",
       "      <td>Joan Mir</td>\n",
       "      <td>8</td>\n",
       "      <td>6.0</td>\n",
       "      <td>2.0</td>\n",
       "      <td>10</td>\n",
       "      <td>0.67</td>\n",
       "      <td>0.51</td>\n",
       "      <td>0.59</td>\n",
       "    </tr>\n",
       "    <tr>\n",
       "      <th>7</th>\n",
       "      <td>Fabio Quartararo</td>\n",
       "      <td>11</td>\n",
       "      <td>9.0</td>\n",
       "      <td>2.0</td>\n",
       "      <td>7</td>\n",
       "      <td>0.41</td>\n",
       "      <td>0.38</td>\n",
       "      <td>0.40</td>\n",
       "    </tr>\n",
       "    <tr>\n",
       "      <th>8</th>\n",
       "      <td>Alex Rins</td>\n",
       "      <td>10</td>\n",
       "      <td>7.0</td>\n",
       "      <td>3.0</td>\n",
       "      <td>9</td>\n",
       "      <td>0.49</td>\n",
       "      <td>0.27</td>\n",
       "      <td>0.38</td>\n",
       "    </tr>\n",
       "    <tr>\n",
       "      <th>9</th>\n",
       "      <td>Takaaki Nakagami</td>\n",
       "      <td>6</td>\n",
       "      <td>10.0</td>\n",
       "      <td>-4.0</td>\n",
       "      <td>6</td>\n",
       "      <td>0.21</td>\n",
       "      <td>0.25</td>\n",
       "      <td>0.23</td>\n",
       "    </tr>\n",
       "    <tr>\n",
       "      <th>10</th>\n",
       "      <td>Johann Zarco</td>\n",
       "      <td>3</td>\n",
       "      <td>8.0</td>\n",
       "      <td>-5.0</td>\n",
       "      <td>8</td>\n",
       "      <td>0.41</td>\n",
       "      <td>-0.06</td>\n",
       "      <td>0.17</td>\n",
       "    </tr>\n",
       "    <tr>\n",
       "      <th>11</th>\n",
       "      <td>Franco Morbidelli</td>\n",
       "      <td>12</td>\n",
       "      <td>11.0</td>\n",
       "      <td>1.0</td>\n",
       "      <td>5</td>\n",
       "      <td>0.13</td>\n",
       "      <td>0.08</td>\n",
       "      <td>0.10</td>\n",
       "    </tr>\n",
       "    <tr>\n",
       "      <th>12</th>\n",
       "      <td>Francesco Bagnaia</td>\n",
       "      <td>9</td>\n",
       "      <td>NaN</td>\n",
       "      <td>-9.0</td>\n",
       "      <td>0</td>\n",
       "      <td>0.12</td>\n",
       "      <td>-0.09</td>\n",
       "      <td>0.01</td>\n",
       "    </tr>\n",
       "    <tr>\n",
       "      <th>13</th>\n",
       "      <td>Jorge Martin</td>\n",
       "      <td>1</td>\n",
       "      <td>NaN</td>\n",
       "      <td>-17.0</td>\n",
       "      <td>0</td>\n",
       "      <td>0.12</td>\n",
       "      <td>-0.28</td>\n",
       "      <td>-0.08</td>\n",
       "    </tr>\n",
       "    <tr>\n",
       "      <th>14</th>\n",
       "      <td>Maverick Viñales</td>\n",
       "      <td>9</td>\n",
       "      <td>12.0</td>\n",
       "      <td>-3.0</td>\n",
       "      <td>4</td>\n",
       "      <td>-0.17</td>\n",
       "      <td>-0.04</td>\n",
       "      <td>-0.10</td>\n",
       "    </tr>\n",
       "    <tr>\n",
       "      <th>15</th>\n",
       "      <td>Miguel Oliveira</td>\n",
       "      <td>4</td>\n",
       "      <td>NaN</td>\n",
       "      <td>-14.0</td>\n",
       "      <td>0</td>\n",
       "      <td>0.02</td>\n",
       "      <td>-0.23</td>\n",
       "      <td>-0.11</td>\n",
       "    </tr>\n",
       "    <tr>\n",
       "      <th>16</th>\n",
       "      <td>Andrea Dovizioso</td>\n",
       "      <td>10</td>\n",
       "      <td>14.0</td>\n",
       "      <td>-4.0</td>\n",
       "      <td>2</td>\n",
       "      <td>-0.36</td>\n",
       "      <td>0.11</td>\n",
       "      <td>-0.12</td>\n",
       "    </tr>\n",
       "    <tr>\n",
       "      <th>17</th>\n",
       "      <td>Luca Marini</td>\n",
       "      <td>7</td>\n",
       "      <td>13.0</td>\n",
       "      <td>-6.0</td>\n",
       "      <td>3</td>\n",
       "      <td>-0.35</td>\n",
       "      <td>0.11</td>\n",
       "      <td>-0.12</td>\n",
       "    </tr>\n",
       "    <tr>\n",
       "      <th>18</th>\n",
       "      <td>Alex Marquez</td>\n",
       "      <td>8</td>\n",
       "      <td>NaN</td>\n",
       "      <td>-10.0</td>\n",
       "      <td>0</td>\n",
       "      <td>-0.07</td>\n",
       "      <td>-0.22</td>\n",
       "      <td>-0.14</td>\n",
       "    </tr>\n",
       "    <tr>\n",
       "      <th>19</th>\n",
       "      <td>Marco Bezzecchi</td>\n",
       "      <td>5</td>\n",
       "      <td>NaN</td>\n",
       "      <td>-13.0</td>\n",
       "      <td>0</td>\n",
       "      <td>-0.27</td>\n",
       "      <td>-0.22</td>\n",
       "      <td>-0.25</td>\n",
       "    </tr>\n",
       "    <tr>\n",
       "      <th>20</th>\n",
       "      <td>Jack Miller</td>\n",
       "      <td>4</td>\n",
       "      <td>NaN</td>\n",
       "      <td>-14.0</td>\n",
       "      <td>0</td>\n",
       "      <td>-0.23</td>\n",
       "      <td>-0.35</td>\n",
       "      <td>-0.29</td>\n",
       "    </tr>\n",
       "    <tr>\n",
       "      <th>21</th>\n",
       "      <td>Darryn Binder</td>\n",
       "      <td>14</td>\n",
       "      <td>16.0</td>\n",
       "      <td>-2.0</td>\n",
       "      <td>0</td>\n",
       "      <td>-0.98</td>\n",
       "      <td>0.07</td>\n",
       "      <td>-0.45</td>\n",
       "    </tr>\n",
       "    <tr>\n",
       "      <th>22</th>\n",
       "      <td>Remy Gardner</td>\n",
       "      <td>12</td>\n",
       "      <td>15.0</td>\n",
       "      <td>-3.0</td>\n",
       "      <td>1</td>\n",
       "      <td>-0.98</td>\n",
       "      <td>-0.03</td>\n",
       "      <td>-0.50</td>\n",
       "    </tr>\n",
       "    <tr>\n",
       "      <th>23</th>\n",
       "      <td>Fabio Di Giannantonio</td>\n",
       "      <td>11</td>\n",
       "      <td>17.0</td>\n",
       "      <td>-6.0</td>\n",
       "      <td>0</td>\n",
       "      <td>-0.99</td>\n",
       "      <td>-0.06</td>\n",
       "      <td>-0.53</td>\n",
       "    </tr>\n",
       "    <tr>\n",
       "      <th>24</th>\n",
       "      <td>Raul Fernandez</td>\n",
       "      <td>13</td>\n",
       "      <td>18.0</td>\n",
       "      <td>-5.0</td>\n",
       "      <td>0</td>\n",
       "      <td>-1.04</td>\n",
       "      <td>-0.05</td>\n",
       "      <td>-0.55</td>\n",
       "    </tr>\n",
       "  </tbody>\n",
       "</table>\n",
       "</div>"
      ],
      "text/plain": [
       "                    rider  grid  position  pos_delta  points   \n",
       "1             Brad Binder     7       2.0        5.0      20  \\\n",
       "2           Pol Espargaro     6       3.0        3.0      16   \n",
       "3         Enea Bastianini     2       1.0        1.0      25   \n",
       "4            Marc Marquez     3       5.0       -2.0      11   \n",
       "5         Aleix Espargaro     5       4.0        1.0      13   \n",
       "6                Joan Mir     8       6.0        2.0      10   \n",
       "7        Fabio Quartararo    11       9.0        2.0       7   \n",
       "8               Alex Rins    10       7.0        3.0       9   \n",
       "9        Takaaki Nakagami     6      10.0       -4.0       6   \n",
       "10           Johann Zarco     3       8.0       -5.0       8   \n",
       "11      Franco Morbidelli    12      11.0        1.0       5   \n",
       "12      Francesco Bagnaia     9       NaN       -9.0       0   \n",
       "13           Jorge Martin     1       NaN      -17.0       0   \n",
       "14       Maverick Viñales     9      12.0       -3.0       4   \n",
       "15        Miguel Oliveira     4       NaN      -14.0       0   \n",
       "16       Andrea Dovizioso    10      14.0       -4.0       2   \n",
       "17            Luca Marini     7      13.0       -6.0       3   \n",
       "18           Alex Marquez     8       NaN      -10.0       0   \n",
       "19        Marco Bezzecchi     5       NaN      -13.0       0   \n",
       "20            Jack Miller     4       NaN      -14.0       0   \n",
       "21          Darryn Binder    14      16.0       -2.0       0   \n",
       "22           Remy Gardner    12      15.0       -3.0       1   \n",
       "23  Fabio Di Giannantonio    11      17.0       -6.0       0   \n",
       "24         Raul Fernandez    13      18.0       -5.0       0   \n",
       "\n",
       "    pace_speed_index  pace_consistency_index  performance_index  \n",
       "1               0.87                    0.51               0.69  \n",
       "2               0.83                    0.52               0.67  \n",
       "3               0.89                    0.39               0.64  \n",
       "4               0.70                    0.59               0.64  \n",
       "5               0.79                    0.39               0.59  \n",
       "6               0.67                    0.51               0.59  \n",
       "7               0.41                    0.38               0.40  \n",
       "8               0.49                    0.27               0.38  \n",
       "9               0.21                    0.25               0.23  \n",
       "10              0.41                   -0.06               0.17  \n",
       "11              0.13                    0.08               0.10  \n",
       "12              0.12                   -0.09               0.01  \n",
       "13              0.12                   -0.28              -0.08  \n",
       "14             -0.17                   -0.04              -0.10  \n",
       "15              0.02                   -0.23              -0.11  \n",
       "16             -0.36                    0.11              -0.12  \n",
       "17             -0.35                    0.11              -0.12  \n",
       "18             -0.07                   -0.22              -0.14  \n",
       "19             -0.27                   -0.22              -0.25  \n",
       "20             -0.23                   -0.35              -0.29  \n",
       "21             -0.98                    0.07              -0.45  \n",
       "22             -0.98                   -0.03              -0.50  \n",
       "23             -0.99                   -0.06              -0.53  \n",
       "24             -1.04                   -0.05              -0.55  "
      ]
     },
     "execution_count": 17,
     "metadata": {},
     "output_type": "execute_result"
    }
   ],
   "source": [
    "perfQAT = performanceQAT.drop(columns=[\n",
    "    'avg_speed', 'avg_laptime', 'delta_avg_laptime',\n",
    "    'delta_std_laptime']).sort_values('performance_index', ascending=False).reset_index()\n",
    "perfQAT.index += 1\n",
    "perfQAT.drop(columns='constructor')"
   ]
  },
  {
   "attachments": {},
   "cell_type": "markdown",
   "metadata": {},
   "source": [
    "In this \"new\" ranking (sorted by the aggregated performance indicator), it is interesting to note that the winner (Enea Bastianini), who dominated the race from the first position since the beginning, is relegated to the third position behind Brad Binder and Pol Espargaro. This is due to the fact that these two riders have shown to have a greater speed and consistency than Enea, who, apart from the victory, has equalled the performance of Marc Marquez.\n",
    "\n",
    "The same concept is applied to the race performances of the constructors in the following table."
   ]
  },
  {
   "cell_type": "code",
   "execution_count": 18,
   "metadata": {},
   "outputs": [
    {
     "data": {
      "text/html": [
       "<div>\n",
       "<style scoped>\n",
       "    .dataframe tbody tr th:only-of-type {\n",
       "        vertical-align: middle;\n",
       "    }\n",
       "\n",
       "    .dataframe tbody tr th {\n",
       "        vertical-align: top;\n",
       "    }\n",
       "\n",
       "    .dataframe thead th {\n",
       "        text-align: right;\n",
       "    }\n",
       "</style>\n",
       "<table border=\"1\" class=\"dataframe\">\n",
       "  <thead>\n",
       "    <tr style=\"text-align: right;\">\n",
       "      <th></th>\n",
       "      <th>pace_speed_index</th>\n",
       "      <th>pace_consistency_index</th>\n",
       "      <th>performance_index</th>\n",
       "    </tr>\n",
       "    <tr>\n",
       "      <th>constructor</th>\n",
       "      <th></th>\n",
       "      <th></th>\n",
       "      <th></th>\n",
       "    </tr>\n",
       "  </thead>\n",
       "  <tbody>\n",
       "    <tr>\n",
       "      <th>Suzuki</th>\n",
       "      <td>0.58</td>\n",
       "      <td>0.39</td>\n",
       "      <td>0.48</td>\n",
       "    </tr>\n",
       "    <tr>\n",
       "      <th>Honda</th>\n",
       "      <td>0.42</td>\n",
       "      <td>0.28</td>\n",
       "      <td>0.35</td>\n",
       "    </tr>\n",
       "    <tr>\n",
       "      <th>Aprilia</th>\n",
       "      <td>0.31</td>\n",
       "      <td>0.18</td>\n",
       "      <td>0.24</td>\n",
       "    </tr>\n",
       "    <tr>\n",
       "      <th>Yamaha</th>\n",
       "      <td>-0.20</td>\n",
       "      <td>0.16</td>\n",
       "      <td>-0.02</td>\n",
       "    </tr>\n",
       "    <tr>\n",
       "      <th>Ducati</th>\n",
       "      <td>-0.04</td>\n",
       "      <td>-0.07</td>\n",
       "      <td>-0.06</td>\n",
       "    </tr>\n",
       "    <tr>\n",
       "      <th>KTM</th>\n",
       "      <td>-0.28</td>\n",
       "      <td>0.05</td>\n",
       "      <td>-0.12</td>\n",
       "    </tr>\n",
       "  </tbody>\n",
       "</table>\n",
       "</div>"
      ],
      "text/plain": [
       "             pace_speed_index  pace_consistency_index  performance_index\n",
       "constructor                                                             \n",
       "Suzuki                   0.58                    0.39               0.48\n",
       "Honda                    0.42                    0.28               0.35\n",
       "Aprilia                  0.31                    0.18               0.24\n",
       "Yamaha                  -0.20                    0.16              -0.02\n",
       "Ducati                  -0.04                   -0.07              -0.06\n",
       "KTM                     -0.28                    0.05              -0.12"
      ]
     },
     "execution_count": 18,
     "metadata": {},
     "output_type": "execute_result"
    }
   ],
   "source": [
    "perfQAT_constr = perfQAT.groupby('constructor')[['pace_speed_index', 'pace_consistency_index', 'performance_index']].mean().sort_values('performance_index', ascending=False).round(2)\n",
    "# perfQAT_constr = perfQAT_constr.sort_values('performance_index', ascending=False).reset_index()\n",
    "# perfQAT_constr.index += 1\n",
    "perfQAT_constr"
   ]
  },
  {
   "cell_type": "code",
   "execution_count": 19,
   "metadata": {},
   "outputs": [
    {
     "data": {
      "application/vnd.plotly.v1+json": {
       "config": {
        "plotlyServerURL": "https://plot.ly"
       },
       "data": [
        {
         "hovertemplate": "constructor=%{text}<br>Relative Consistency Indicator (in seconds)=%{x}<br>Relative Speed Indicator (in seconds)=%{y}<extra></extra>",
         "legendgroup": "Suzuki",
         "marker": {
          "color": "aqua",
          "size": 8,
          "symbol": "circle"
         },
         "mode": "markers+text",
         "name": "Suzuki",
         "orientation": "v",
         "showlegend": true,
         "text": [
          "Suzuki"
         ],
         "textposition": "top center",
         "type": "scatter",
         "x": [
          0.39
         ],
         "xaxis": "x",
         "y": [
          0.58
         ],
         "yaxis": "y"
        },
        {
         "hovertemplate": "constructor=%{text}<br>Relative Consistency Indicator (in seconds)=%{x}<br>Relative Speed Indicator (in seconds)=%{y}<extra></extra>",
         "legendgroup": "Honda",
         "marker": {
          "color": "orange",
          "size": 8,
          "symbol": "circle"
         },
         "mode": "markers+text",
         "name": "Honda",
         "orientation": "v",
         "showlegend": true,
         "text": [
          "Honda"
         ],
         "textposition": "top center",
         "type": "scatter",
         "x": [
          0.28
         ],
         "xaxis": "x",
         "y": [
          0.42
         ],
         "yaxis": "y"
        },
        {
         "hovertemplate": "constructor=%{text}<br>Relative Consistency Indicator (in seconds)=%{x}<br>Relative Speed Indicator (in seconds)=%{y}<extra></extra>",
         "legendgroup": "Aprilia",
         "marker": {
          "color": "green",
          "size": 8,
          "symbol": "circle"
         },
         "mode": "markers+text",
         "name": "Aprilia",
         "orientation": "v",
         "showlegend": true,
         "text": [
          "Aprilia"
         ],
         "textposition": "top center",
         "type": "scatter",
         "x": [
          0.18
         ],
         "xaxis": "x",
         "y": [
          0.31
         ],
         "yaxis": "y"
        },
        {
         "hovertemplate": "constructor=%{text}<br>Relative Consistency Indicator (in seconds)=%{x}<br>Relative Speed Indicator (in seconds)=%{y}<extra></extra>",
         "legendgroup": "Yamaha",
         "marker": {
          "color": "blue",
          "size": 8,
          "symbol": "circle"
         },
         "mode": "markers+text",
         "name": "Yamaha",
         "orientation": "v",
         "showlegend": true,
         "text": [
          "Yamaha"
         ],
         "textposition": "top center",
         "type": "scatter",
         "x": [
          0.16
         ],
         "xaxis": "x",
         "y": [
          -0.2
         ],
         "yaxis": "y"
        },
        {
         "hovertemplate": "constructor=%{text}<br>Relative Consistency Indicator (in seconds)=%{x}<br>Relative Speed Indicator (in seconds)=%{y}<extra></extra>",
         "legendgroup": "Ducati",
         "marker": {
          "color": "red",
          "size": 8,
          "symbol": "circle"
         },
         "mode": "markers+text",
         "name": "Ducati",
         "orientation": "v",
         "showlegend": true,
         "text": [
          "Ducati"
         ],
         "textposition": "top center",
         "type": "scatter",
         "x": [
          -0.07
         ],
         "xaxis": "x",
         "y": [
          -0.04
         ],
         "yaxis": "y"
        },
        {
         "hovertemplate": "constructor=%{text}<br>Relative Consistency Indicator (in seconds)=%{x}<br>Relative Speed Indicator (in seconds)=%{y}<extra></extra>",
         "legendgroup": "KTM",
         "marker": {
          "color": "darkorange",
          "size": 8,
          "symbol": "circle"
         },
         "mode": "markers+text",
         "name": "KTM",
         "orientation": "v",
         "showlegend": true,
         "text": [
          "KTM"
         ],
         "textposition": "top center",
         "type": "scatter",
         "x": [
          0.05
         ],
         "xaxis": "x",
         "y": [
          -0.28
         ],
         "yaxis": "y"
        }
       ],
       "layout": {
        "legend": {
         "title": {
          "text": "constructor"
         },
         "tracegroupgap": 0
        },
        "shapes": [
         {
          "line": {
           "color": "black",
           "width": 2
          },
          "type": "line",
          "x0": -1,
          "x1": 1,
          "y0": 0,
          "y1": 0
         },
         {
          "line": {
           "color": "black",
           "width": 2
          },
          "type": "line",
          "x0": 0,
          "x1": 0,
          "y0": -1,
          "y1": 1
         }
        ],
        "showlegend": false,
        "template": {
         "data": {
          "bar": [
           {
            "error_x": {
             "color": "#2a3f5f"
            },
            "error_y": {
             "color": "#2a3f5f"
            },
            "marker": {
             "line": {
              "color": "white",
              "width": 0.5
             },
             "pattern": {
              "fillmode": "overlay",
              "size": 10,
              "solidity": 0.2
             }
            },
            "type": "bar"
           }
          ],
          "barpolar": [
           {
            "marker": {
             "line": {
              "color": "white",
              "width": 0.5
             },
             "pattern": {
              "fillmode": "overlay",
              "size": 10,
              "solidity": 0.2
             }
            },
            "type": "barpolar"
           }
          ],
          "carpet": [
           {
            "aaxis": {
             "endlinecolor": "#2a3f5f",
             "gridcolor": "#C8D4E3",
             "linecolor": "#C8D4E3",
             "minorgridcolor": "#C8D4E3",
             "startlinecolor": "#2a3f5f"
            },
            "baxis": {
             "endlinecolor": "#2a3f5f",
             "gridcolor": "#C8D4E3",
             "linecolor": "#C8D4E3",
             "minorgridcolor": "#C8D4E3",
             "startlinecolor": "#2a3f5f"
            },
            "type": "carpet"
           }
          ],
          "choropleth": [
           {
            "colorbar": {
             "outlinewidth": 0,
             "ticks": ""
            },
            "type": "choropleth"
           }
          ],
          "contour": [
           {
            "colorbar": {
             "outlinewidth": 0,
             "ticks": ""
            },
            "colorscale": [
             [
              0,
              "#0d0887"
             ],
             [
              0.1111111111111111,
              "#46039f"
             ],
             [
              0.2222222222222222,
              "#7201a8"
             ],
             [
              0.3333333333333333,
              "#9c179e"
             ],
             [
              0.4444444444444444,
              "#bd3786"
             ],
             [
              0.5555555555555556,
              "#d8576b"
             ],
             [
              0.6666666666666666,
              "#ed7953"
             ],
             [
              0.7777777777777778,
              "#fb9f3a"
             ],
             [
              0.8888888888888888,
              "#fdca26"
             ],
             [
              1,
              "#f0f921"
             ]
            ],
            "type": "contour"
           }
          ],
          "contourcarpet": [
           {
            "colorbar": {
             "outlinewidth": 0,
             "ticks": ""
            },
            "type": "contourcarpet"
           }
          ],
          "heatmap": [
           {
            "colorbar": {
             "outlinewidth": 0,
             "ticks": ""
            },
            "colorscale": [
             [
              0,
              "#0d0887"
             ],
             [
              0.1111111111111111,
              "#46039f"
             ],
             [
              0.2222222222222222,
              "#7201a8"
             ],
             [
              0.3333333333333333,
              "#9c179e"
             ],
             [
              0.4444444444444444,
              "#bd3786"
             ],
             [
              0.5555555555555556,
              "#d8576b"
             ],
             [
              0.6666666666666666,
              "#ed7953"
             ],
             [
              0.7777777777777778,
              "#fb9f3a"
             ],
             [
              0.8888888888888888,
              "#fdca26"
             ],
             [
              1,
              "#f0f921"
             ]
            ],
            "type": "heatmap"
           }
          ],
          "heatmapgl": [
           {
            "colorbar": {
             "outlinewidth": 0,
             "ticks": ""
            },
            "colorscale": [
             [
              0,
              "#0d0887"
             ],
             [
              0.1111111111111111,
              "#46039f"
             ],
             [
              0.2222222222222222,
              "#7201a8"
             ],
             [
              0.3333333333333333,
              "#9c179e"
             ],
             [
              0.4444444444444444,
              "#bd3786"
             ],
             [
              0.5555555555555556,
              "#d8576b"
             ],
             [
              0.6666666666666666,
              "#ed7953"
             ],
             [
              0.7777777777777778,
              "#fb9f3a"
             ],
             [
              0.8888888888888888,
              "#fdca26"
             ],
             [
              1,
              "#f0f921"
             ]
            ],
            "type": "heatmapgl"
           }
          ],
          "histogram": [
           {
            "marker": {
             "pattern": {
              "fillmode": "overlay",
              "size": 10,
              "solidity": 0.2
             }
            },
            "type": "histogram"
           }
          ],
          "histogram2d": [
           {
            "colorbar": {
             "outlinewidth": 0,
             "ticks": ""
            },
            "colorscale": [
             [
              0,
              "#0d0887"
             ],
             [
              0.1111111111111111,
              "#46039f"
             ],
             [
              0.2222222222222222,
              "#7201a8"
             ],
             [
              0.3333333333333333,
              "#9c179e"
             ],
             [
              0.4444444444444444,
              "#bd3786"
             ],
             [
              0.5555555555555556,
              "#d8576b"
             ],
             [
              0.6666666666666666,
              "#ed7953"
             ],
             [
              0.7777777777777778,
              "#fb9f3a"
             ],
             [
              0.8888888888888888,
              "#fdca26"
             ],
             [
              1,
              "#f0f921"
             ]
            ],
            "type": "histogram2d"
           }
          ],
          "histogram2dcontour": [
           {
            "colorbar": {
             "outlinewidth": 0,
             "ticks": ""
            },
            "colorscale": [
             [
              0,
              "#0d0887"
             ],
             [
              0.1111111111111111,
              "#46039f"
             ],
             [
              0.2222222222222222,
              "#7201a8"
             ],
             [
              0.3333333333333333,
              "#9c179e"
             ],
             [
              0.4444444444444444,
              "#bd3786"
             ],
             [
              0.5555555555555556,
              "#d8576b"
             ],
             [
              0.6666666666666666,
              "#ed7953"
             ],
             [
              0.7777777777777778,
              "#fb9f3a"
             ],
             [
              0.8888888888888888,
              "#fdca26"
             ],
             [
              1,
              "#f0f921"
             ]
            ],
            "type": "histogram2dcontour"
           }
          ],
          "mesh3d": [
           {
            "colorbar": {
             "outlinewidth": 0,
             "ticks": ""
            },
            "type": "mesh3d"
           }
          ],
          "parcoords": [
           {
            "line": {
             "colorbar": {
              "outlinewidth": 0,
              "ticks": ""
             }
            },
            "type": "parcoords"
           }
          ],
          "pie": [
           {
            "automargin": true,
            "type": "pie"
           }
          ],
          "scatter": [
           {
            "fillpattern": {
             "fillmode": "overlay",
             "size": 10,
             "solidity": 0.2
            },
            "type": "scatter"
           }
          ],
          "scatter3d": [
           {
            "line": {
             "colorbar": {
              "outlinewidth": 0,
              "ticks": ""
             }
            },
            "marker": {
             "colorbar": {
              "outlinewidth": 0,
              "ticks": ""
             }
            },
            "type": "scatter3d"
           }
          ],
          "scattercarpet": [
           {
            "marker": {
             "colorbar": {
              "outlinewidth": 0,
              "ticks": ""
             }
            },
            "type": "scattercarpet"
           }
          ],
          "scattergeo": [
           {
            "marker": {
             "colorbar": {
              "outlinewidth": 0,
              "ticks": ""
             }
            },
            "type": "scattergeo"
           }
          ],
          "scattergl": [
           {
            "marker": {
             "colorbar": {
              "outlinewidth": 0,
              "ticks": ""
             }
            },
            "type": "scattergl"
           }
          ],
          "scattermapbox": [
           {
            "marker": {
             "colorbar": {
              "outlinewidth": 0,
              "ticks": ""
             }
            },
            "type": "scattermapbox"
           }
          ],
          "scatterpolar": [
           {
            "marker": {
             "colorbar": {
              "outlinewidth": 0,
              "ticks": ""
             }
            },
            "type": "scatterpolar"
           }
          ],
          "scatterpolargl": [
           {
            "marker": {
             "colorbar": {
              "outlinewidth": 0,
              "ticks": ""
             }
            },
            "type": "scatterpolargl"
           }
          ],
          "scatterternary": [
           {
            "marker": {
             "colorbar": {
              "outlinewidth": 0,
              "ticks": ""
             }
            },
            "type": "scatterternary"
           }
          ],
          "surface": [
           {
            "colorbar": {
             "outlinewidth": 0,
             "ticks": ""
            },
            "colorscale": [
             [
              0,
              "#0d0887"
             ],
             [
              0.1111111111111111,
              "#46039f"
             ],
             [
              0.2222222222222222,
              "#7201a8"
             ],
             [
              0.3333333333333333,
              "#9c179e"
             ],
             [
              0.4444444444444444,
              "#bd3786"
             ],
             [
              0.5555555555555556,
              "#d8576b"
             ],
             [
              0.6666666666666666,
              "#ed7953"
             ],
             [
              0.7777777777777778,
              "#fb9f3a"
             ],
             [
              0.8888888888888888,
              "#fdca26"
             ],
             [
              1,
              "#f0f921"
             ]
            ],
            "type": "surface"
           }
          ],
          "table": [
           {
            "cells": {
             "fill": {
              "color": "#EBF0F8"
             },
             "line": {
              "color": "white"
             }
            },
            "header": {
             "fill": {
              "color": "#C8D4E3"
             },
             "line": {
              "color": "white"
             }
            },
            "type": "table"
           }
          ]
         },
         "layout": {
          "annotationdefaults": {
           "arrowcolor": "#2a3f5f",
           "arrowhead": 0,
           "arrowwidth": 1
          },
          "autotypenumbers": "strict",
          "coloraxis": {
           "colorbar": {
            "outlinewidth": 0,
            "ticks": ""
           }
          },
          "colorscale": {
           "diverging": [
            [
             0,
             "#8e0152"
            ],
            [
             0.1,
             "#c51b7d"
            ],
            [
             0.2,
             "#de77ae"
            ],
            [
             0.3,
             "#f1b6da"
            ],
            [
             0.4,
             "#fde0ef"
            ],
            [
             0.5,
             "#f7f7f7"
            ],
            [
             0.6,
             "#e6f5d0"
            ],
            [
             0.7,
             "#b8e186"
            ],
            [
             0.8,
             "#7fbc41"
            ],
            [
             0.9,
             "#4d9221"
            ],
            [
             1,
             "#276419"
            ]
           ],
           "sequential": [
            [
             0,
             "#0d0887"
            ],
            [
             0.1111111111111111,
             "#46039f"
            ],
            [
             0.2222222222222222,
             "#7201a8"
            ],
            [
             0.3333333333333333,
             "#9c179e"
            ],
            [
             0.4444444444444444,
             "#bd3786"
            ],
            [
             0.5555555555555556,
             "#d8576b"
            ],
            [
             0.6666666666666666,
             "#ed7953"
            ],
            [
             0.7777777777777778,
             "#fb9f3a"
            ],
            [
             0.8888888888888888,
             "#fdca26"
            ],
            [
             1,
             "#f0f921"
            ]
           ],
           "sequentialminus": [
            [
             0,
             "#0d0887"
            ],
            [
             0.1111111111111111,
             "#46039f"
            ],
            [
             0.2222222222222222,
             "#7201a8"
            ],
            [
             0.3333333333333333,
             "#9c179e"
            ],
            [
             0.4444444444444444,
             "#bd3786"
            ],
            [
             0.5555555555555556,
             "#d8576b"
            ],
            [
             0.6666666666666666,
             "#ed7953"
            ],
            [
             0.7777777777777778,
             "#fb9f3a"
            ],
            [
             0.8888888888888888,
             "#fdca26"
            ],
            [
             1,
             "#f0f921"
            ]
           ]
          },
          "colorway": [
           "#636efa",
           "#EF553B",
           "#00cc96",
           "#ab63fa",
           "#FFA15A",
           "#19d3f3",
           "#FF6692",
           "#B6E880",
           "#FF97FF",
           "#FECB52"
          ],
          "font": {
           "color": "#2a3f5f"
          },
          "geo": {
           "bgcolor": "white",
           "lakecolor": "white",
           "landcolor": "white",
           "showlakes": true,
           "showland": true,
           "subunitcolor": "#C8D4E3"
          },
          "hoverlabel": {
           "align": "left"
          },
          "hovermode": "closest",
          "mapbox": {
           "style": "light"
          },
          "paper_bgcolor": "white",
          "plot_bgcolor": "white",
          "polar": {
           "angularaxis": {
            "gridcolor": "#EBF0F8",
            "linecolor": "#EBF0F8",
            "ticks": ""
           },
           "bgcolor": "white",
           "radialaxis": {
            "gridcolor": "#EBF0F8",
            "linecolor": "#EBF0F8",
            "ticks": ""
           }
          },
          "scene": {
           "xaxis": {
            "backgroundcolor": "white",
            "gridcolor": "#DFE8F3",
            "gridwidth": 2,
            "linecolor": "#EBF0F8",
            "showbackground": true,
            "ticks": "",
            "zerolinecolor": "#EBF0F8"
           },
           "yaxis": {
            "backgroundcolor": "white",
            "gridcolor": "#DFE8F3",
            "gridwidth": 2,
            "linecolor": "#EBF0F8",
            "showbackground": true,
            "ticks": "",
            "zerolinecolor": "#EBF0F8"
           },
           "zaxis": {
            "backgroundcolor": "white",
            "gridcolor": "#DFE8F3",
            "gridwidth": 2,
            "linecolor": "#EBF0F8",
            "showbackground": true,
            "ticks": "",
            "zerolinecolor": "#EBF0F8"
           }
          },
          "shapedefaults": {
           "line": {
            "color": "#2a3f5f"
           }
          },
          "ternary": {
           "aaxis": {
            "gridcolor": "#DFE8F3",
            "linecolor": "#A2B1C6",
            "ticks": ""
           },
           "baxis": {
            "gridcolor": "#DFE8F3",
            "linecolor": "#A2B1C6",
            "ticks": ""
           },
           "bgcolor": "white",
           "caxis": {
            "gridcolor": "#DFE8F3",
            "linecolor": "#A2B1C6",
            "ticks": ""
           }
          },
          "title": {
           "x": 0.05
          },
          "xaxis": {
           "automargin": true,
           "gridcolor": "#EBF0F8",
           "linecolor": "#EBF0F8",
           "ticks": "",
           "title": {
            "standoff": 15
           },
           "zerolinecolor": "#EBF0F8",
           "zerolinewidth": 2
          },
          "yaxis": {
           "automargin": true,
           "gridcolor": "#EBF0F8",
           "linecolor": "#EBF0F8",
           "ticks": "",
           "title": {
            "standoff": 15
           },
           "zerolinecolor": "#EBF0F8",
           "zerolinewidth": 2
          }
         }
        },
        "title": {
         "text": "<b>🇶🇦 Qatar 2022</b><br>Performance Matrix - Constructors"
        },
        "xaxis": {
         "anchor": "y",
         "domain": [
          0,
          1
         ],
         "title": {
          "text": "Relative Consistency Indicator (in seconds)"
         }
        },
        "yaxis": {
         "anchor": "x",
         "domain": [
          0,
          1
         ],
         "title": {
          "text": "Relative Speed Indicator (in seconds)"
         }
        }
       }
      }
     },
     "metadata": {},
     "output_type": "display_data"
    }
   ],
   "source": [
    "fig = px.scatter(\n",
    "    perfQAT_constr, \n",
    "    x='pace_consistency_index', \n",
    "    y='pace_speed_index',\n",
    "    color=perfQAT_constr.index,\n",
    "    color_discrete_sequence=['aqua', 'orange', 'green', 'blue', 'red', 'darkorange'],\n",
    "    # text=performanceQAT['points'].astype(str).apply(lambda x: '' if x == '0' else x),\n",
    "    text=perfQAT_constr.index,\n",
    "    labels={'pace_speed_index': 'Relative Speed Indicator (in seconds)', 'pace_consistency_index': 'Relative Consistency Indicator (in seconds)'},\n",
    "    title=\"<b>🇶🇦 Qatar 2022</b><br>Performance Matrix - Constructors\",\n",
    "    # trendline='ols'\n",
    "    )\n",
    "fig.update_traces(\n",
    "    textposition='top center',\n",
    "    marker=dict(size=8))\n",
    "fig.add_shape(\n",
    "    type='line',\n",
    "    x0=-1,\n",
    "    y0=0,\n",
    "    x1=1,\n",
    "    y1=0,\n",
    "    line=dict(\n",
    "        color='black',\n",
    "        width=2\n",
    "    )\n",
    ")\n",
    "\n",
    "fig.add_shape(\n",
    "    type='line',\n",
    "    x0=0,\n",
    "    y0=-1,\n",
    "    x1=0,\n",
    "    y1=1,\n",
    "    line=dict(\n",
    "        color='black',\n",
    "        width=2\n",
    "    )\n",
    ")\n",
    "fig.update_layout(template=template, showlegend=False)\n",
    "fig.show()"
   ]
  },
  {
   "attachments": {},
   "cell_type": "markdown",
   "metadata": {},
   "source": [
    "As we can see, thanks in part to the performance matrix applied to the constructors, Suzuki was the most \"performant\" motorcycle in Qatar 2022, along with Honda and Aprilia. Ducati, Yamaha, and KTM had subpar performances.\n",
    "\n",
    "# Conclusion\n",
    "\n",
    "For the purpose of providing more technical and structured motorsports information to fans, we have demonstrated in this article how public data can be used to extract important information on race and rider performance. While the race results remain undoubtedly the reference for assigning race points, it is still crucial to be able to objectively measure and evaluate the \"pace\" of the riders, regardless of the checkered flag and race events. By examining two MotoGP races in the 2022 season, we first established the **importance of visually analyzing the race progression** in terms of lap times in order to:\n",
    "\n",
    "* Examine the overall **evolution of tire performance and degradation**;\n",
    "* **Compare** the **lap time** evolution of riders, teams, and constructors (also in relation to the average).\n",
    "\n",
    "We then demonstrated how lap data can be used to analyze the adaptation of riders, teams, and constructors to different track segments, with the help of aggregate metrics for intermediate sector times.\n",
    "\n",
    "Finally, we demonstrated the usefulness of **quantifying the performances** of riders, teams, and constructors through **quantitative indicators** that take into account **relative speed and consistency**, the two fundamental variables in the theoretical definition of \"performance.\"\n",
    "\n",
    "In conclusion, the research findings confirm the validity of the initial hypothesis and provide a satisfying answer to the questions that were posed at the beginning of the investigation. It is also believed that this study constitutes an important starting point for the creation of an engaging technical information format for motor racing. The ultimate goal is to promote a constructive and informed debate among industry experts and enthusiasts, providing objective information that allows for statistical evaluation of the performances of riders and vehicles. In this way, we could contribute to fostering a more aware and informed motor racing culture, capable of fully appreciating the technical complexity of this type of sport, especially for those more demanding fans."
   ]
  }
 ],
 "metadata": {
  "kernelspec": {
   "display_name": "Python 3",
   "language": "python",
   "name": "python3"
  },
  "language_info": {
   "codemirror_mode": {
    "name": "ipython",
    "version": 3
   },
   "file_extension": ".py",
   "mimetype": "text/x-python",
   "name": "python",
   "nbconvert_exporter": "python",
   "pygments_lexer": "ipython3",
   "version": "3.10.7"
  },
  "orig_nbformat": 4
 },
 "nbformat": 4,
 "nbformat_minor": 2
}
